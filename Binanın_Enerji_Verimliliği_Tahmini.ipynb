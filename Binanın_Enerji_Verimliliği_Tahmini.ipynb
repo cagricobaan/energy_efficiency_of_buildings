{
 "cells": [
  {
   "cell_type": "markdown",
   "id": "eae4c0dd-fbba-4aec-ba33-d8f2b4d3332c",
   "metadata": {},
   "source": [
    "<div style=\"text-align: center;\">\n",
    "    <h1>Binaların Enerji Verimliliği Tahmini</h1>\n",
    "</div>"
   ]
  },
  {
   "cell_type": "markdown",
   "id": "81ef36c5-fd61-4770-93a9-eb103c33331f",
   "metadata": {},
   "source": [
    "### Veri Seti Bilgileri:\n",
    "\n",
    "Enerji analizi için Ecotect'te simüle edilen 12 farklı bina şeklini kullanıyoruz. Toplamda 768 binadan oluşan veri seti, her biri 10 değişken içeren bir yapıdadır. Bu değişkenler arasından bağımlı değişkenler olan ısıtma yükünü ve soğutma yükünü tahmin etmeye çalışcağız.\n",
    "\n",
    "### Değişkenler:\n",
    "\n",
    "- x1 bağıl kompaktlık\n",
    "- x2 yüzey alanı\n",
    "- x3 duvar alanı\n",
    "- x4 çatı alanı\n",
    "- x5 toplam yükseklik\n",
    "- x6 yönlendirme\n",
    "- x7 cam alanı\n",
    "- x8 cam alanı dağılımı\n",
    "- y1 Isıtma Yükü\n",
    "- y2 Soğutma Yükü\n",
    "\n",
    "![apple]( https://resmim.net/cdn/2024/08/19/WGcYlK.png )"
   ]
  },
  {
   "cell_type": "markdown",
   "id": "ba024d87",
   "metadata": {},
   "source": [
    "# 1. Bölüm: KEŞİFÇİ VERİ ANALİZİ\n",
    "- Veri Seti Okuma\n",
    "- Veri Seti Kolon İsimleri\n",
    "- Veri Seti Kolon İsimlerini Değiştirme\n",
    "- Veri Setinin Tanımlayıcı istatistiklerinin Transpozu alınmış hali\n",
    "- Veri Seti Tanımlayıcı İstatistiklerinin Tablo Halinde Verilmesi\n",
    "- Veri Setinin Genel Resmi\n",
    "- Veri Setinde Numerik ve Kategorik Değişkenlerin  Yakalanması \n",
    "- Kategorik değişkenlerin incelenmesi\n",
    "- Numeric Değişkenlerin İncelenmesi\n",
    "- Hedef Değişken Analizi\n",
    "- Korelasyon Analizi\n",
    "\n",
    "# 2. Bölüm: ÖZELLİK MÜHENDİSLİĞİ\n",
    "- Aykırı Değer Analizi\n",
    "- Eksik Değerler\n",
    "- Label Encoding\n",
    "- Özellik Ölçeklendirme(Scale)\n",
    "\n",
    "# 3. Bölüm: MODELLERİN KURULUMU VE BAŞARILARI"
   ]
  },
  {
   "cell_type": "markdown",
   "id": "3bff87c9",
   "metadata": {},
   "source": [
    "## 1. BÖLÜM\n",
    "## 1. KEŞİFÇİ VERİ ANALİZİ"
   ]
  },
  {
   "cell_type": "markdown",
   "id": "ecaee91e",
   "metadata": {},
   "source": [
    "### Gerekli Kütüphaneler"
   ]
  },
  {
   "cell_type": "code",
   "execution_count": 1,
   "id": "7b0eb7a3-916b-416e-ba0d-d5755eb05fa7",
   "metadata": {},
   "outputs": [],
   "source": [
    "import numpy as np# çok boyutlu dizileri ve matrixleri hızlı şekilde kullanma\n",
    "import pandas as pd # dataframe işlemleri için\n",
    "\n",
    "import random #sayı üretmek, rastgele seçimler yapmak \n",
    "\n",
    "#######veri görselleştirme#########\n",
    "import matplotlib.pyplot as plt\n",
    "import seaborn as sns\n",
    "\n",
    "#######başarı metrikleri için kullanılan kütüphane#########\n",
    "from math import sqrt\n",
    "from sklearn.metrics import mean_squared_error,accuracy_score, precision_score, recall_score, f1_score,roc_auc_score\n",
    "\n",
    "#Hiperparameter optimizasyonu kütüphanesi\n",
    "from sklearn.model_selection import GridSearchCV, cross_validate\n",
    "\n",
    "#veri setini train şekilde ayırmak için kullandığımız kütüphane\n",
    "from sklearn.model_selection import train_test_split\n",
    "\n",
    "#Label_Encoder_islemi\n",
    "from sklearn.preprocessing import LabelEncoder\n",
    "\n",
    "#verileri belirli bir ölçekte ayarlamak için kütüphane\n",
    "from sklearn.preprocessing import MinMaxScaler, LabelEncoder, StandardScaler, RobustScaler\n",
    "\n",
    "\n",
    "#Makine Öğrenmesi kütüphaneleri\n",
    "import joblib #machine learning model kayıt.\n",
    "from sklearn.linear_model import LinearRegression\n",
    "from sklearn.neighbors import KNeighborsRegressor\n",
    "from sklearn.svm import SVR\n",
    "from sklearn.tree import DecisionTreeRegressor\n",
    "from sklearn.ensemble import RandomForestRegressor, AdaBoostRegressor, GradientBoostingRegressor\n",
    "from xgboost import XGBRegressor\n",
    "from lightgbm import LGBMRegressor\n",
    "from sklearn.model_selection import cross_validate\n",
    "import numpy as np\n",
    "from sklearn.model_selection import GridSearchCV"
   ]
  },
  {
   "cell_type": "markdown",
   "id": "ddb81432",
   "metadata": {},
   "source": [
    "### 1.1. Veri Seti okutma"
   ]
  },
  {
   "cell_type": "code",
   "execution_count": 2,
   "id": "a5ec88fc",
   "metadata": {
    "scrolled": true
   },
   "outputs": [
    {
     "data": {
      "text/html": [
       "<div>\n",
       "<style scoped>\n",
       "    .dataframe tbody tr th:only-of-type {\n",
       "        vertical-align: middle;\n",
       "    }\n",
       "\n",
       "    .dataframe tbody tr th {\n",
       "        vertical-align: top;\n",
       "    }\n",
       "\n",
       "    .dataframe thead th {\n",
       "        text-align: right;\n",
       "    }\n",
       "</style>\n",
       "<table border=\"1\" class=\"dataframe\">\n",
       "  <thead>\n",
       "    <tr style=\"text-align: right;\">\n",
       "      <th></th>\n",
       "      <th>X1</th>\n",
       "      <th>X2</th>\n",
       "      <th>X3</th>\n",
       "      <th>X4</th>\n",
       "      <th>X5</th>\n",
       "      <th>X6</th>\n",
       "      <th>X7</th>\n",
       "      <th>X8</th>\n",
       "      <th>Y1</th>\n",
       "    </tr>\n",
       "  </thead>\n",
       "  <tbody>\n",
       "    <tr>\n",
       "      <th>0</th>\n",
       "      <td>0.98</td>\n",
       "      <td>514.5</td>\n",
       "      <td>294.0</td>\n",
       "      <td>110.25</td>\n",
       "      <td>7.0</td>\n",
       "      <td>2</td>\n",
       "      <td>0.0</td>\n",
       "      <td>0</td>\n",
       "      <td>15.55</td>\n",
       "    </tr>\n",
       "    <tr>\n",
       "      <th>1</th>\n",
       "      <td>0.98</td>\n",
       "      <td>514.5</td>\n",
       "      <td>294.0</td>\n",
       "      <td>110.25</td>\n",
       "      <td>7.0</td>\n",
       "      <td>3</td>\n",
       "      <td>0.0</td>\n",
       "      <td>0</td>\n",
       "      <td>15.55</td>\n",
       "    </tr>\n",
       "    <tr>\n",
       "      <th>2</th>\n",
       "      <td>0.98</td>\n",
       "      <td>514.5</td>\n",
       "      <td>294.0</td>\n",
       "      <td>110.25</td>\n",
       "      <td>7.0</td>\n",
       "      <td>4</td>\n",
       "      <td>0.0</td>\n",
       "      <td>0</td>\n",
       "      <td>15.55</td>\n",
       "    </tr>\n",
       "    <tr>\n",
       "      <th>3</th>\n",
       "      <td>0.98</td>\n",
       "      <td>514.5</td>\n",
       "      <td>294.0</td>\n",
       "      <td>110.25</td>\n",
       "      <td>7.0</td>\n",
       "      <td>5</td>\n",
       "      <td>0.0</td>\n",
       "      <td>0</td>\n",
       "      <td>15.55</td>\n",
       "    </tr>\n",
       "    <tr>\n",
       "      <th>4</th>\n",
       "      <td>0.90</td>\n",
       "      <td>563.5</td>\n",
       "      <td>318.5</td>\n",
       "      <td>122.50</td>\n",
       "      <td>7.0</td>\n",
       "      <td>2</td>\n",
       "      <td>0.0</td>\n",
       "      <td>0</td>\n",
       "      <td>20.84</td>\n",
       "    </tr>\n",
       "  </tbody>\n",
       "</table>\n",
       "</div>"
      ],
      "text/plain": [
       "     X1     X2     X3      X4   X5  X6   X7  X8     Y1\n",
       "0  0.98  514.5  294.0  110.25  7.0   2  0.0   0  15.55\n",
       "1  0.98  514.5  294.0  110.25  7.0   3  0.0   0  15.55\n",
       "2  0.98  514.5  294.0  110.25  7.0   4  0.0   0  15.55\n",
       "3  0.98  514.5  294.0  110.25  7.0   5  0.0   0  15.55\n",
       "4  0.90  563.5  318.5  122.50  7.0   2  0.0   0  20.84"
      ]
     },
     "execution_count": 2,
     "metadata": {},
     "output_type": "execute_result"
    }
   ],
   "source": [
    "df=pd.read_csv(\"enerji.csv\")\n",
    "df.drop('Y2', axis=1, inplace=True) # bir kolonu sildik ve kalıcı olarak bıraktık.\n",
    "df.head()"
   ]
  },
  {
   "cell_type": "markdown",
   "id": "da2d5725",
   "metadata": {},
   "source": [
    "### 1.2. Veri Seti Kolon İsimlerini Öğrenme"
   ]
  },
  {
   "cell_type": "code",
   "execution_count": 3,
   "id": "e2e274f3-6f59-4cf9-b9ff-6b8ff0af567b",
   "metadata": {},
   "outputs": [
    {
     "data": {
      "text/plain": [
       "['X1', 'X2', 'X3', 'X4', 'X5', 'X6', 'X7', 'X8', 'Y1']"
      ]
     },
     "execution_count": 3,
     "metadata": {},
     "output_type": "execute_result"
    }
   ],
   "source": [
    "df.columns.to_list()#kolon isimleri"
   ]
  },
  {
   "cell_type": "markdown",
   "id": "ec366eae",
   "metadata": {},
   "source": [
    "### 1.3. Veri Setindeki Kolon isimlerini Değiştirme"
   ]
  },
  {
   "cell_type": "code",
   "execution_count": 4,
   "id": "44f171d0-3b85-44dc-8933-e6ef72dfb3ea",
   "metadata": {
    "scrolled": true
   },
   "outputs": [
    {
     "data": {
      "text/html": [
       "<div>\n",
       "<style scoped>\n",
       "    .dataframe tbody tr th:only-of-type {\n",
       "        vertical-align: middle;\n",
       "    }\n",
       "\n",
       "    .dataframe tbody tr th {\n",
       "        vertical-align: top;\n",
       "    }\n",
       "\n",
       "    .dataframe thead th {\n",
       "        text-align: right;\n",
       "    }\n",
       "</style>\n",
       "<table border=\"1\" class=\"dataframe\">\n",
       "  <thead>\n",
       "    <tr style=\"text-align: right;\">\n",
       "      <th></th>\n",
       "      <th>bagil_kompaktlik</th>\n",
       "      <th>yuzey_alani</th>\n",
       "      <th>duvar_alani</th>\n",
       "      <th>cati_alani</th>\n",
       "      <th>toplam_yukseklik</th>\n",
       "      <th>oryantasyon</th>\n",
       "      <th>cam_alani</th>\n",
       "      <th>cam_alani_dagilimi</th>\n",
       "      <th>isitma_yuku</th>\n",
       "    </tr>\n",
       "  </thead>\n",
       "  <tbody>\n",
       "    <tr>\n",
       "      <th>0</th>\n",
       "      <td>0.98</td>\n",
       "      <td>514.5</td>\n",
       "      <td>294.0</td>\n",
       "      <td>110.25</td>\n",
       "      <td>7.0</td>\n",
       "      <td>2</td>\n",
       "      <td>0.0</td>\n",
       "      <td>0</td>\n",
       "      <td>15.55</td>\n",
       "    </tr>\n",
       "    <tr>\n",
       "      <th>1</th>\n",
       "      <td>0.98</td>\n",
       "      <td>514.5</td>\n",
       "      <td>294.0</td>\n",
       "      <td>110.25</td>\n",
       "      <td>7.0</td>\n",
       "      <td>3</td>\n",
       "      <td>0.0</td>\n",
       "      <td>0</td>\n",
       "      <td>15.55</td>\n",
       "    </tr>\n",
       "    <tr>\n",
       "      <th>2</th>\n",
       "      <td>0.98</td>\n",
       "      <td>514.5</td>\n",
       "      <td>294.0</td>\n",
       "      <td>110.25</td>\n",
       "      <td>7.0</td>\n",
       "      <td>4</td>\n",
       "      <td>0.0</td>\n",
       "      <td>0</td>\n",
       "      <td>15.55</td>\n",
       "    </tr>\n",
       "    <tr>\n",
       "      <th>3</th>\n",
       "      <td>0.98</td>\n",
       "      <td>514.5</td>\n",
       "      <td>294.0</td>\n",
       "      <td>110.25</td>\n",
       "      <td>7.0</td>\n",
       "      <td>5</td>\n",
       "      <td>0.0</td>\n",
       "      <td>0</td>\n",
       "      <td>15.55</td>\n",
       "    </tr>\n",
       "    <tr>\n",
       "      <th>4</th>\n",
       "      <td>0.90</td>\n",
       "      <td>563.5</td>\n",
       "      <td>318.5</td>\n",
       "      <td>122.50</td>\n",
       "      <td>7.0</td>\n",
       "      <td>2</td>\n",
       "      <td>0.0</td>\n",
       "      <td>0</td>\n",
       "      <td>20.84</td>\n",
       "    </tr>\n",
       "  </tbody>\n",
       "</table>\n",
       "</div>"
      ],
      "text/plain": [
       "   bagil_kompaktlik  yuzey_alani  duvar_alani  cati_alani  toplam_yukseklik  \\\n",
       "0              0.98        514.5        294.0      110.25               7.0   \n",
       "1              0.98        514.5        294.0      110.25               7.0   \n",
       "2              0.98        514.5        294.0      110.25               7.0   \n",
       "3              0.98        514.5        294.0      110.25               7.0   \n",
       "4              0.90        563.5        318.5      122.50               7.0   \n",
       "\n",
       "   oryantasyon  cam_alani  cam_alani_dagilimi  isitma_yuku  \n",
       "0            2        0.0                   0        15.55  \n",
       "1            3        0.0                   0        15.55  \n",
       "2            4        0.0                   0        15.55  \n",
       "3            5        0.0                   0        15.55  \n",
       "4            2        0.0                   0        20.84  "
      ]
     },
     "execution_count": 4,
     "metadata": {},
     "output_type": "execute_result"
    }
   ],
   "source": [
    "#değişken(kolon) ismi değiştirme\n",
    "\n",
    "\n",
    "yeni_isimler = {\n",
    "    'X1': 'bagil_kompaktlik',\n",
    "    'X2': 'yuzey_alani',\n",
    "    'X3': 'duvar_alani',\n",
    "    'X4': 'cati_alani',\n",
    "    'X5': 'toplam_yukseklik',\n",
    "    'X6': 'oryantasyon',\n",
    "    'X7': 'cam_alani',\n",
    "    'X8': 'cam_alani_dagilimi',\n",
    "    'Y1': 'isitma_yuku',\n",
    "}\n",
    "\n",
    "df.rename(columns=yeni_isimler, inplace=True)\n",
    "df.head()"
   ]
  },
  {
   "cell_type": "markdown",
   "id": "c98e78c5",
   "metadata": {},
   "source": [
    "### 1.4. Veri Setinin Tanımlayıcı istatistiklerinin Transpozu alınmış hali"
   ]
  },
  {
   "cell_type": "code",
   "execution_count": 5,
   "id": "c5fbd5d4-0403-4564-b7c7-8678656169b8",
   "metadata": {},
   "outputs": [
    {
     "data": {
      "text/html": [
       "<div>\n",
       "<style scoped>\n",
       "    .dataframe tbody tr th:only-of-type {\n",
       "        vertical-align: middle;\n",
       "    }\n",
       "\n",
       "    .dataframe tbody tr th {\n",
       "        vertical-align: top;\n",
       "    }\n",
       "\n",
       "    .dataframe thead th {\n",
       "        text-align: right;\n",
       "    }\n",
       "</style>\n",
       "<table border=\"1\" class=\"dataframe\">\n",
       "  <thead>\n",
       "    <tr style=\"text-align: right;\">\n",
       "      <th></th>\n",
       "      <th>count</th>\n",
       "      <th>mean</th>\n",
       "      <th>std</th>\n",
       "      <th>min</th>\n",
       "      <th>25%</th>\n",
       "      <th>50%</th>\n",
       "      <th>75%</th>\n",
       "      <th>max</th>\n",
       "    </tr>\n",
       "  </thead>\n",
       "  <tbody>\n",
       "    <tr>\n",
       "      <th>bagil_kompaktlik</th>\n",
       "      <td>768.0</td>\n",
       "      <td>0.764167</td>\n",
       "      <td>0.105777</td>\n",
       "      <td>0.62</td>\n",
       "      <td>0.6825</td>\n",
       "      <td>0.75</td>\n",
       "      <td>0.8300</td>\n",
       "      <td>0.98</td>\n",
       "    </tr>\n",
       "    <tr>\n",
       "      <th>yuzey_alani</th>\n",
       "      <td>768.0</td>\n",
       "      <td>671.708333</td>\n",
       "      <td>88.086116</td>\n",
       "      <td>514.50</td>\n",
       "      <td>606.3750</td>\n",
       "      <td>673.75</td>\n",
       "      <td>741.1250</td>\n",
       "      <td>808.50</td>\n",
       "    </tr>\n",
       "    <tr>\n",
       "      <th>duvar_alani</th>\n",
       "      <td>768.0</td>\n",
       "      <td>318.500000</td>\n",
       "      <td>43.626481</td>\n",
       "      <td>245.00</td>\n",
       "      <td>294.0000</td>\n",
       "      <td>318.50</td>\n",
       "      <td>343.0000</td>\n",
       "      <td>416.50</td>\n",
       "    </tr>\n",
       "    <tr>\n",
       "      <th>cati_alani</th>\n",
       "      <td>768.0</td>\n",
       "      <td>176.604167</td>\n",
       "      <td>45.165950</td>\n",
       "      <td>110.25</td>\n",
       "      <td>140.8750</td>\n",
       "      <td>183.75</td>\n",
       "      <td>220.5000</td>\n",
       "      <td>220.50</td>\n",
       "    </tr>\n",
       "    <tr>\n",
       "      <th>toplam_yukseklik</th>\n",
       "      <td>768.0</td>\n",
       "      <td>5.250000</td>\n",
       "      <td>1.751140</td>\n",
       "      <td>3.50</td>\n",
       "      <td>3.5000</td>\n",
       "      <td>5.25</td>\n",
       "      <td>7.0000</td>\n",
       "      <td>7.00</td>\n",
       "    </tr>\n",
       "    <tr>\n",
       "      <th>oryantasyon</th>\n",
       "      <td>768.0</td>\n",
       "      <td>3.500000</td>\n",
       "      <td>1.118763</td>\n",
       "      <td>2.00</td>\n",
       "      <td>2.7500</td>\n",
       "      <td>3.50</td>\n",
       "      <td>4.2500</td>\n",
       "      <td>5.00</td>\n",
       "    </tr>\n",
       "    <tr>\n",
       "      <th>cam_alani</th>\n",
       "      <td>768.0</td>\n",
       "      <td>0.234375</td>\n",
       "      <td>0.133221</td>\n",
       "      <td>0.00</td>\n",
       "      <td>0.1000</td>\n",
       "      <td>0.25</td>\n",
       "      <td>0.4000</td>\n",
       "      <td>0.40</td>\n",
       "    </tr>\n",
       "    <tr>\n",
       "      <th>cam_alani_dagilimi</th>\n",
       "      <td>768.0</td>\n",
       "      <td>2.812500</td>\n",
       "      <td>1.550960</td>\n",
       "      <td>0.00</td>\n",
       "      <td>1.7500</td>\n",
       "      <td>3.00</td>\n",
       "      <td>4.0000</td>\n",
       "      <td>5.00</td>\n",
       "    </tr>\n",
       "    <tr>\n",
       "      <th>isitma_yuku</th>\n",
       "      <td>768.0</td>\n",
       "      <td>22.307201</td>\n",
       "      <td>10.090196</td>\n",
       "      <td>6.01</td>\n",
       "      <td>12.9925</td>\n",
       "      <td>18.95</td>\n",
       "      <td>31.6675</td>\n",
       "      <td>43.10</td>\n",
       "    </tr>\n",
       "  </tbody>\n",
       "</table>\n",
       "</div>"
      ],
      "text/plain": [
       "                    count        mean        std     min       25%     50%  \\\n",
       "bagil_kompaktlik    768.0    0.764167   0.105777    0.62    0.6825    0.75   \n",
       "yuzey_alani         768.0  671.708333  88.086116  514.50  606.3750  673.75   \n",
       "duvar_alani         768.0  318.500000  43.626481  245.00  294.0000  318.50   \n",
       "cati_alani          768.0  176.604167  45.165950  110.25  140.8750  183.75   \n",
       "toplam_yukseklik    768.0    5.250000   1.751140    3.50    3.5000    5.25   \n",
       "oryantasyon         768.0    3.500000   1.118763    2.00    2.7500    3.50   \n",
       "cam_alani           768.0    0.234375   0.133221    0.00    0.1000    0.25   \n",
       "cam_alani_dagilimi  768.0    2.812500   1.550960    0.00    1.7500    3.00   \n",
       "isitma_yuku         768.0   22.307201  10.090196    6.01   12.9925   18.95   \n",
       "\n",
       "                         75%     max  \n",
       "bagil_kompaktlik      0.8300    0.98  \n",
       "yuzey_alani         741.1250  808.50  \n",
       "duvar_alani         343.0000  416.50  \n",
       "cati_alani          220.5000  220.50  \n",
       "toplam_yukseklik      7.0000    7.00  \n",
       "oryantasyon           4.2500    5.00  \n",
       "cam_alani             0.4000    0.40  \n",
       "cam_alani_dagilimi    4.0000    5.00  \n",
       "isitma_yuku          31.6675   43.10  "
      ]
     },
     "execution_count": 5,
     "metadata": {},
     "output_type": "execute_result"
    }
   ],
   "source": [
    "df.describe().T"
   ]
  },
  {
   "cell_type": "markdown",
   "id": "f12eb6ff",
   "metadata": {},
   "source": [
    "### 1.6. Veri Setinin Genel Resmi"
   ]
  },
  {
   "cell_type": "code",
   "execution_count": 7,
   "id": "3939d476-a525-480a-912e-ced3d8266494",
   "metadata": {},
   "outputs": [
    {
     "name": "stdout",
     "output_type": "stream",
     "text": [
      "##################### Shape #####################\n",
      "(768, 9)\n",
      "##################### Types #####################\n",
      "bagil_kompaktlik      float64\n",
      "yuzey_alani           float64\n",
      "duvar_alani           float64\n",
      "cati_alani            float64\n",
      "toplam_yukseklik      float64\n",
      "oryantasyon             int64\n",
      "cam_alani             float64\n",
      "cam_alani_dagilimi      int64\n",
      "isitma_yuku           float64\n",
      "dtype: object\n",
      "##################### Head #####################\n",
      "   bagil_kompaktlik  yuzey_alani  duvar_alani  cati_alani  toplam_yukseklik  \\\n",
      "0              0.98        514.5        294.0      110.25               7.0   \n",
      "1              0.98        514.5        294.0      110.25               7.0   \n",
      "2              0.98        514.5        294.0      110.25               7.0   \n",
      "3              0.98        514.5        294.0      110.25               7.0   \n",
      "4              0.90        563.5        318.5      122.50               7.0   \n",
      "\n",
      "   oryantasyon  cam_alani  cam_alani_dagilimi  isitma_yuku  \n",
      "0            2        0.0                   0        15.55  \n",
      "1            3        0.0                   0        15.55  \n",
      "2            4        0.0                   0        15.55  \n",
      "3            5        0.0                   0        15.55  \n",
      "4            2        0.0                   0        20.84  \n",
      "##################### Tail #####################\n",
      "     bagil_kompaktlik  yuzey_alani  duvar_alani  cati_alani  toplam_yukseklik  \\\n",
      "763              0.64        784.0        343.0       220.5               3.5   \n",
      "764              0.62        808.5        367.5       220.5               3.5   \n",
      "765              0.62        808.5        367.5       220.5               3.5   \n",
      "766              0.62        808.5        367.5       220.5               3.5   \n",
      "767              0.62        808.5        367.5       220.5               3.5   \n",
      "\n",
      "     oryantasyon  cam_alani  cam_alani_dagilimi  isitma_yuku  \n",
      "763            5        0.4                   5        17.88  \n",
      "764            2        0.4                   5        16.54  \n",
      "765            3        0.4                   5        16.44  \n",
      "766            4        0.4                   5        16.48  \n",
      "767            5        0.4                   5        16.64  \n",
      "##################### NA #####################\n",
      "bagil_kompaktlik      0\n",
      "yuzey_alani           0\n",
      "duvar_alani           0\n",
      "cati_alani            0\n",
      "toplam_yukseklik      0\n",
      "oryantasyon           0\n",
      "cam_alani             0\n",
      "cam_alani_dagilimi    0\n",
      "isitma_yuku           0\n",
      "dtype: int64\n",
      "##################### Quantiles #####################\n",
      "                      0.00      0.05    0.50    0.95      0.99    1.00\n",
      "bagil_kompaktlik      0.62    0.6200    0.75    0.98    0.9800    0.98\n",
      "yuzey_alani         514.50  514.5000  673.75  808.50  808.5000  808.50\n",
      "duvar_alani         245.00  245.0000  318.50  416.50  416.5000  416.50\n",
      "cati_alani          110.25  110.2500  183.75  220.50  220.5000  220.50\n",
      "toplam_yukseklik      3.50    3.5000    5.25    7.00    7.0000    7.00\n",
      "oryantasyon           2.00    2.0000    3.50    5.00    5.0000    5.00\n",
      "cam_alani             0.00    0.0000    0.25    0.40    0.4000    0.40\n",
      "cam_alani_dagilimi    0.00    0.0000    3.00    5.00    5.0000    5.00\n",
      "isitma_yuku           6.01   10.4635   18.95   39.86   42.0899   43.10\n",
      "<class 'pandas.core.frame.DataFrame'>\n",
      "RangeIndex: 768 entries, 0 to 767\n",
      "Data columns (total 9 columns):\n",
      " #   Column              Non-Null Count  Dtype  \n",
      "---  ------              --------------  -----  \n",
      " 0   bagil_kompaktlik    768 non-null    float64\n",
      " 1   yuzey_alani         768 non-null    float64\n",
      " 2   duvar_alani         768 non-null    float64\n",
      " 3   cati_alani          768 non-null    float64\n",
      " 4   toplam_yukseklik    768 non-null    float64\n",
      " 5   oryantasyon         768 non-null    int64  \n",
      " 6   cam_alani           768 non-null    float64\n",
      " 7   cam_alani_dagilimi  768 non-null    int64  \n",
      " 8   isitma_yuku         768 non-null    float64\n",
      "dtypes: float64(7), int64(2)\n",
      "memory usage: 54.1 KB\n"
     ]
    }
   ],
   "source": [
    "\n",
    "\n",
    "def check_df(dataframe, head=5):\n",
    "    print(\"##################### Shape #####################\")\n",
    "    print(dataframe.shape) # satır sütun sayısı.\n",
    "    print(\"##################### Types #####################\")\n",
    "    print(dataframe.dtypes) # değişkenleri veri tipi\n",
    "    print(\"##################### Head #####################\")\n",
    "    print(dataframe.head(head)) # veri setinde ilk 5 değişken\n",
    "    print(\"##################### Tail #####################\")\n",
    "    print(dataframe.tail(head))  #veri setinde son 5 satır\n",
    "    print(\"##################### NA #####################\")\n",
    "    print(dataframe.isnull().sum()) # Değişkenlerin boş satır sayısı.\n",
    "    print(\"##################### Quantiles #####################\")\n",
    "    print(dataframe.quantile([0, 0.05, 0.50, 0.95, 0.99, 1]).T)\n",
    "\n",
    "check_df(df)\n",
    "\n",
    "df.head()\n",
    "df.info()"
   ]
  },
  {
   "cell_type": "markdown",
   "id": "1229b3f7",
   "metadata": {},
   "source": [
    "### 1.7. Veri Setinde Numerik ve Kategorik Değişkenlerin  Yakalanması "
   ]
  },
  {
   "cell_type": "code",
   "execution_count": 8,
   "id": "e53b25fb-681e-4b98-9940-d50ebcf5ab2c",
   "metadata": {},
   "outputs": [
    {
     "name": "stdout",
     "output_type": "stream",
     "text": [
      "Observations: 768\n",
      "Variables: 9\n",
      "cat_cols: 6\n",
      "num_cols: 3\n",
      "cat_but_car: 0\n",
      "num_but_cat: 6\n"
     ]
    }
   ],
   "source": [
    "##################################\n",
    "# NUMERİK VE KATEGORİK DEĞİŞKENLERİN YAKALANMASI\n",
    "##################################\n",
    "\n",
    "#cat_th= bir numerik değişken ..'dan(aşağıdaki 10 olarak tanımladık örneğin) daha az eşsiz değere sahip ise buna kategorik değişken muamelesi yapıcak.\n",
    "#car_th= bir kategorik değişken ..'dan aşağıdaki 20 olarak tanımladık örneğin)daha az eşsiz değere sahip ise buna numerik değişken muamelesi yapıcak.\n",
    "def grab_col_names(dataframe, cat_th=10, car_th=20):\n",
    "    \"\"\"\n",
    "\n",
    "    Veri setindeki kategorik, numerik ve kategorik fakat kardinal değişkenlerin isimlerini verir.\n",
    "    Not: Kategorik değişkenlerin içerisine numerik görünümlü kategorik değişkenler de dahildir.\n",
    "\n",
    "    Parameters\n",
    "    ------\n",
    "        dataframe: dataframe\n",
    "                Değişken isimleri alınmak istenilen dataframe\n",
    "        cat_th: int, optional\n",
    "                numerik fakat kategorik olan değişkenler için sınıf eşik değeri\n",
    "        car_th: int, optional\n",
    "                kategorik fakat kardinal değişkenler için sınıf eşik değeri\n",
    "\n",
    "    Returns\n",
    "    ------\n",
    "        cat_cols: list\n",
    "                Kategorik değişken listesi\n",
    "        num_cols: list\n",
    "                Numerik değişken listesi\n",
    "        cat_but_car: list\n",
    "                Kategorik görünümlü kardinal değişken listesi\n",
    "\n",
    "    Examples\n",
    "    ------\n",
    "        import seaborn as sns\n",
    "        df = sns.load_dataset(\"iris\")\n",
    "        print(grab_col_names(df))\n",
    "\n",
    "\n",
    "    Notes\n",
    "    ------\n",
    "        cat_cols + num_cols + cat_but_car = toplam değişken sayısı\n",
    "        num_but_cat cat_cols'un içerisinde.\n",
    "\n",
    "    \"\"\"\n",
    "    # cat_cols, cat_but_car\n",
    "    cat_cols = [col for col in dataframe.columns if dataframe[col].dtypes == \"O\"]\n",
    "    num_but_cat = [col for col in dataframe.columns if dataframe[col].nunique() < cat_th and dataframe[col].dtypes != \"O\"]\n",
    "    cat_but_car = [col for col in dataframe.columns if dataframe[col].nunique() > car_th and dataframe[col].dtypes == \"O\"]\n",
    "    cat_cols = cat_cols + num_but_cat\n",
    "    cat_cols = [col for col in cat_cols if col not in cat_but_car]\n",
    "\n",
    "    # num_cols\n",
    "    num_cols = [col for col in dataframe.columns if dataframe[col].dtypes != \"O\"]\n",
    "    num_cols = [col for col in num_cols if col not in num_but_cat]\n",
    "\n",
    "    print(f\"Observations: {dataframe.shape[0]}\")\n",
    "    print(f\"Variables: {dataframe.shape[1]}\")\n",
    "    print(f'cat_cols: {len(cat_cols)}')\n",
    "    print(f'num_cols: {len(num_cols)}')\n",
    "    print(f'cat_but_car: {len(cat_but_car)}')\n",
    "    print(f'num_but_cat: {len(num_but_cat)}')\n",
    "\n",
    "    return cat_cols, num_cols, cat_but_car\n",
    "\n",
    "\n",
    "cat_cols, num_cols, cat_but_car = grab_col_names(df)\n",
    "\n"
   ]
  },
  {
   "cell_type": "markdown",
   "id": "5ccd9a81",
   "metadata": {},
   "source": [
    "Veri setindeki 9 değişkenin 6'sın kategorik 3'ü numerik değişkenlerdir."
   ]
  },
  {
   "cell_type": "markdown",
   "id": "d5af99c5",
   "metadata": {},
   "source": [
    "### 1.8. kategorik değişkenlerin incelenmesi"
   ]
  },
  {
   "cell_type": "code",
   "execution_count": 9,
   "id": "cdfb1972-f06f-4c65-b3c2-19fda9918517",
   "metadata": {},
   "outputs": [
    {
     "data": {
      "text/plain": [
       "['duvar_alani',\n",
       " 'cati_alani',\n",
       " 'toplam_yukseklik',\n",
       " 'oryantasyon',\n",
       " 'cam_alani',\n",
       " 'cam_alani_dagilimi']"
      ]
     },
     "execution_count": 9,
     "metadata": {},
     "output_type": "execute_result"
    }
   ],
   "source": [
    "cat_cols"
   ]
  },
  {
   "cell_type": "markdown",
   "id": "f0301b56",
   "metadata": {},
   "source": [
    "#### 1.8.1. kategorik değişkenlerin dağılımı"
   ]
  },
  {
   "cell_type": "code",
   "execution_count": 27,
   "id": "234feb96-8c2d-4071-96cf-8b6669f95526",
   "metadata": {},
   "outputs": [],
   "source": [
    "#kategorik değişkenleri dağılımı\n",
    "def cat_summary(dataframe, col_name, plot=True):\n",
    "    print(pd.DataFrame({col_name: dataframe[col_name].value_counts(),\n",
    "                        \"Ratio\": 100 * dataframe[col_name].value_counts() / len(dataframe)}))\n",
    "    print(\"##########################################\")\n",
    "    \n",
    "    if plot:\n",
    "        sns.set(rc={'figure.figsize': (6, 3)})\n",
    "        sns.countplot(x=dataframe[col_name], data=dataframe)\n",
    "        plt.show(block=True)"
   ]
  },
  {
   "cell_type": "code",
   "execution_count": 28,
   "id": "a8bebe3b-5a30-4299-8675-6c298397ce3c",
   "metadata": {},
   "outputs": [
    {
     "name": "stdout",
     "output_type": "stream",
     "text": [
      "       duvar_alani      Ratio\n",
      "294.0          192  25.000000\n",
      "318.5          192  25.000000\n",
      "343.0          128  16.666667\n",
      "416.5           64   8.333333\n",
      "245.0           64   8.333333\n",
      "269.5           64   8.333333\n",
      "367.5           64   8.333333\n",
      "##########################################\n"
     ]
    },
    {
     "data": {
      "image/png": "[encoded data removed]",
      "text/plain": [
       "<Figure size 600x300 with 1 Axes>"
      ]
     },
     "metadata": {},
     "output_type": "display_data"
    },
    {
     "name": "stdout",
     "output_type": "stream",
     "text": [
      "        cati_alani      Ratio\n",
      "220.50         384  50.000000\n",
      "147.00         192  25.000000\n",
      "122.50         128  16.666667\n",
      "110.25          64   8.333333\n",
      "##########################################\n"
     ]
    },
    {
     "data": {
      "image/png": "[encoded data removed]",
      "text/plain": [
       "<Figure size 600x300 with 1 Axes>"
      ]
     },
     "metadata": {},
     "output_type": "display_data"
    },
    {
     "name": "stdout",
     "output_type": "stream",
     "text": [
      "     toplam_yukseklik  Ratio\n",
      "7.0               384   50.0\n",
      "3.5               384   50.0\n",
      "##########################################\n"
     ]
    },
    {
     "data": {
      "image/png": "[encoded data removed]",
      "text/plain": [
       "<Figure size 600x300 with 1 Axes>"
      ]
     },
     "metadata": {},
     "output_type": "display_data"
    },
    {
     "name": "stdout",
     "output_type": "stream",
     "text": [
      "   oryantasyon  Ratio\n",
      "2          192   25.0\n",
      "3          192   25.0\n",
      "4          192   25.0\n",
      "5          192   25.0\n",
      "##########################################\n"
     ]
    },
    {
     "data": {
      "image/png": "[encoded data removed]",
      "text/plain": [
       "<Figure size 600x300 with 1 Axes>"
      ]
     },
     "metadata": {},
     "output_type": "display_data"
    },
    {
     "name": "stdout",
     "output_type": "stream",
     "text": [
      "      cam_alani  Ratio\n",
      "0.10        240  31.25\n",
      "0.25        240  31.25\n",
      "0.40        240  31.25\n",
      "0.00         48   6.25\n",
      "##########################################\n"
     ]
    },
    {
     "data": {
      "image/png": "[encoded data removed]",
      "text/plain": [
       "<Figure size 600x300 with 1 Axes>"
      ]
     },
     "metadata": {},
     "output_type": "display_data"
    },
    {
     "name": "stdout",
     "output_type": "stream",
     "text": [
      "   cam_alani_dagilimi  Ratio\n",
      "1                 144  18.75\n",
      "2                 144  18.75\n",
      "3                 144  18.75\n",
      "4                 144  18.75\n",
      "5                 144  18.75\n",
      "0                  48   6.25\n",
      "##########################################\n"
     ]
    },
    {
     "data": {
      "image/png": "[encoded data removed]",
      "text/plain": [
       "<Figure size 600x300 with 1 Axes>"
      ]
     },
     "metadata": {},
     "output_type": "display_data"
    }
   ],
   "source": [
    "for col in cat_cols:\n",
    "    cat_summary(df, col)"
   ]
  },
  {
   "cell_type": "markdown",
   "id": "6c85bb3f",
   "metadata": {},
   "source": [
    "### 1.9. Numeric Değişkenlerin incelenmesi"
   ]
  },
  {
   "cell_type": "code",
   "execution_count": 12,
   "id": "dffcac61",
   "metadata": {},
   "outputs": [
    {
     "data": {
      "text/plain": [
       "['bagil_kompaktlik', 'yuzey_alani', 'isitma_yuku']"
      ]
     },
     "execution_count": 12,
     "metadata": {},
     "output_type": "execute_result"
    }
   ],
   "source": [
    "num_cols"
   ]
  },
  {
   "cell_type": "markdown",
   "id": "c77bfb84",
   "metadata": {},
   "source": [
    "#### 1.9.1.Numeric değişkenlerin dağılımı"
   ]
  },
  {
   "cell_type": "code",
   "execution_count": 31,
   "id": "8b3cb173-2210-41ed-9230-a3834ca8c61f",
   "metadata": {},
   "outputs": [],
   "source": [
    "#numeric değişkenlerin dağılımı\n",
    "def num_summary(dataframe, numerical_col, plot=True):\n",
    "    quantiles = [0.05, 0.10, 0.20, 0.30, 0.40, 0.50, 0.60, 0.70, 0.80, 0.90, 0.95, 0.99]\n",
    "    print(dataframe[numerical_col].describe(quantiles).T)\n",
    "\n",
    "    if plot:\n",
    "        dataframe[numerical_col].hist()\n",
    "        sns.set(rc={'figure.figsize': (6, 3)})\n",
    "        plt.title(numerical_col)\n",
    "        plt.show(block=True)"
   ]
  },
  {
   "cell_type": "code",
   "execution_count": 32,
   "id": "44b28f15-508f-4bf1-85a0-50463649ab72",
   "metadata": {},
   "outputs": [
    {
     "name": "stdout",
     "output_type": "stream",
     "text": [
      "count    768.000000\n",
      "mean       0.764167\n",
      "std        0.105777\n",
      "min        0.620000\n",
      "5%         0.620000\n",
      "10%        0.640000\n",
      "20%        0.660000\n",
      "30%        0.690000\n",
      "40%        0.710000\n",
      "50%        0.750000\n",
      "60%        0.790000\n",
      "70%        0.820000\n",
      "80%        0.860000\n",
      "90%        0.900000\n",
      "95%        0.980000\n",
      "99%        0.980000\n",
      "max        0.980000\n",
      "Name: bagil_kompaktlik, dtype: float64\n"
     ]
    },
    {
     "data": {
      "image/png": "[encoded data removed]",
      "text/plain": [
       "<Figure size 600x300 with 1 Axes>"
      ]
     },
     "metadata": {},
     "output_type": "display_data"
    },
    {
     "name": "stdout",
     "output_type": "stream",
     "text": [
      "count    768.000000\n",
      "mean     671.708333\n",
      "std       88.086116\n",
      "min      514.500000\n",
      "5%       514.500000\n",
      "10%      563.500000\n",
      "20%      588.000000\n",
      "30%      612.500000\n",
      "40%      637.000000\n",
      "50%      673.750000\n",
      "60%      710.500000\n",
      "70%      735.000000\n",
      "80%      759.500000\n",
      "90%      784.000000\n",
      "95%      808.500000\n",
      "99%      808.500000\n",
      "max      808.500000\n",
      "Name: yuzey_alani, dtype: float64\n"
     ]
    },
    {
     "data": {
      "image/png": "[encoded data removed]",
      "text/plain": [
       "<Figure size 600x300 with 1 Axes>"
      ]
     },
     "metadata": {},
     "output_type": "display_data"
    },
    {
     "name": "stdout",
     "output_type": "stream",
     "text": [
      "count    768.000000\n",
      "mean     318.500000\n",
      "std       43.626481\n",
      "min      245.000000\n",
      "5%       245.000000\n",
      "10%      269.500000\n",
      "20%      294.000000\n",
      "30%      294.000000\n",
      "40%      294.000000\n",
      "50%      318.500000\n",
      "60%      318.500000\n",
      "70%      343.000000\n",
      "80%      343.000000\n",
      "90%      367.500000\n",
      "95%      416.500000\n",
      "99%      416.500000\n",
      "max      416.500000\n",
      "Name: duvar_alani, dtype: float64\n"
     ]
    },
    {
     "data": {
      "image/png": "[encoded data removed]",
      "text/plain": [
       "<Figure size 600x300 with 1 Axes>"
      ]
     },
     "metadata": {},
     "output_type": "display_data"
    },
    {
     "name": "stdout",
     "output_type": "stream",
     "text": [
      "count    768.000000\n",
      "mean     176.604167\n",
      "std       45.165950\n",
      "min      110.250000\n",
      "5%       110.250000\n",
      "10%      122.500000\n",
      "20%      122.500000\n",
      "30%      147.000000\n",
      "40%      147.000000\n",
      "50%      183.750000\n",
      "60%      220.500000\n",
      "70%      220.500000\n",
      "80%      220.500000\n",
      "90%      220.500000\n",
      "95%      220.500000\n",
      "99%      220.500000\n",
      "max      220.500000\n",
      "Name: cati_alani, dtype: float64\n"
     ]
    },
    {
     "data": {
      "image/png": "[encoded data removed]",
      "text/plain": [
       "<Figure size 600x300 with 1 Axes>"
      ]
     },
     "metadata": {},
     "output_type": "display_data"
    },
    {
     "name": "stdout",
     "output_type": "stream",
     "text": [
      "count    768.00000\n",
      "mean       5.25000\n",
      "std        1.75114\n",
      "min        3.50000\n",
      "5%         3.50000\n",
      "10%        3.50000\n",
      "20%        3.50000\n",
      "30%        3.50000\n",
      "40%        3.50000\n",
      "50%        5.25000\n",
      "60%        7.00000\n",
      "70%        7.00000\n",
      "80%        7.00000\n",
      "90%        7.00000\n",
      "95%        7.00000\n",
      "99%        7.00000\n",
      "max        7.00000\n",
      "Name: toplam_yukseklik, dtype: float64\n"
     ]
    },
    {
     "data": {
      "image/png": "[encoded data removed]",
      "text/plain": [
       "<Figure size 600x300 with 1 Axes>"
      ]
     },
     "metadata": {},
     "output_type": "display_data"
    },
    {
     "name": "stdout",
     "output_type": "stream",
     "text": [
      "count    768.000000\n",
      "mean       0.234375\n",
      "std        0.133221\n",
      "min        0.000000\n",
      "5%         0.000000\n",
      "10%        0.100000\n",
      "20%        0.100000\n",
      "30%        0.100000\n",
      "40%        0.250000\n",
      "50%        0.250000\n",
      "60%        0.250000\n",
      "70%        0.400000\n",
      "80%        0.400000\n",
      "90%        0.400000\n",
      "95%        0.400000\n",
      "99%        0.400000\n",
      "max        0.400000\n",
      "Name: cam_alani, dtype: float64\n"
     ]
    },
    {
     "data": {
      "image/png": "[encoded data removed]",
      "text/plain": [
       "<Figure size 600x300 with 1 Axes>"
      ]
     },
     "metadata": {},
     "output_type": "display_data"
    },
    {
     "name": "stdout",
     "output_type": "stream",
     "text": [
      "count    768.000000\n",
      "mean      22.307201\n",
      "std       10.090196\n",
      "min        6.010000\n",
      "5%        10.463500\n",
      "10%       11.217000\n",
      "20%       12.630000\n",
      "30%       14.320000\n",
      "40%       15.230000\n",
      "50%       18.950000\n",
      "60%       25.668000\n",
      "70%       29.089000\n",
      "80%       32.508000\n",
      "90%       36.703000\n",
      "95%       39.860000\n",
      "99%       42.089900\n",
      "max       43.100000\n",
      "Name: isitma_yuku, dtype: float64\n"
     ]
    },
    {
     "data": {
      "image/png": "[encoded data removed]",
      "text/plain": [
       "<Figure size 600x300 with 1 Axes>"
      ]
     },
     "metadata": {},
     "output_type": "display_data"
    }
   ],
   "source": [
    "for col in num_cols:\n",
    "    num_summary(df, col, plot=True)"
   ]
  },
  {
   "cell_type": "markdown",
   "id": "7433e25a",
   "metadata": {},
   "source": [
    "### 1.10 Hedef Değişken Analizi"
   ]
  },
  {
   "cell_type": "code",
   "execution_count": 15,
   "id": "3a82c666",
   "metadata": {},
   "outputs": [
    {
     "data": {
      "text/plain": [
       "15.16    6\n",
       "13.00    5\n",
       "15.55    4\n",
       "10.68    4\n",
       "28.15    4\n",
       "        ..\n",
       "10.47    1\n",
       "33.21    1\n",
       "36.77    1\n",
       "36.71    1\n",
       "16.64    1\n",
       "Name: isitma_yuku, Length: 586, dtype: int64"
      ]
     },
     "execution_count": 15,
     "metadata": {},
     "output_type": "execute_result"
    }
   ],
   "source": [
    "df[\"isitma_yuku\"].value_counts()"
   ]
  },
  {
   "cell_type": "markdown",
   "id": "252f54c2",
   "metadata": {},
   "source": [
    "\n",
    "#### 10.1.1. Hedef Değişkenin Kategorik Değişkenler ile Analizi\n"
   ]
  },
  {
   "cell_type": "code",
   "execution_count": 16,
   "id": "eb07571f",
   "metadata": {},
   "outputs": [],
   "source": [
    "def target_summary_with_cat(dataframe, target, categorical_col):\n",
    "    print(pd.DataFrame({\"TARGET_MEAN\": dataframe.groupby(categorical_col)[target].mean()}), end=\"\\n\\n\\n\")\n"
   ]
  },
  {
   "cell_type": "code",
   "execution_count": 17,
   "id": "f9f31788",
   "metadata": {},
   "outputs": [
    {
     "name": "stdout",
     "output_type": "stream",
     "text": [
      "             TARGET_MEAN\n",
      "duvar_alani             \n",
      "245.0          11.886719\n",
      "269.5          12.040156\n",
      "294.0          22.862604\n",
      "318.5          23.333646\n",
      "343.0          27.611641\n",
      "367.5          14.283281\n",
      "416.5          35.664219\n",
      "\n",
      "\n",
      "            TARGET_MEAN\n",
      "cati_alani             \n",
      "110.25        27.646250\n",
      "122.50        33.646563\n",
      "147.00        30.905312\n",
      "220.50        13.338516\n",
      "\n",
      "\n",
      "                  TARGET_MEAN\n",
      "toplam_yukseklik             \n",
      "3.5                 13.338516\n",
      "7.0                 31.275885\n",
      "\n",
      "\n",
      "             TARGET_MEAN\n",
      "oryantasyon             \n",
      "2              22.312865\n",
      "3              22.380677\n",
      "4              22.259896\n",
      "5              22.275365\n",
      "\n",
      "\n",
      "           TARGET_MEAN\n",
      "cam_alani             \n",
      "0.00         14.286458\n",
      "0.10         20.357167\n",
      "0.25         22.756917\n",
      "0.40         25.411667\n",
      "\n",
      "\n",
      "                    TARGET_MEAN\n",
      "cam_alani_dagilimi             \n",
      "0                     14.286458\n",
      "1                     23.026111\n",
      "2                     22.934444\n",
      "3                     22.681458\n",
      "4                     22.886667\n",
      "5                     22.680903\n",
      "\n",
      "\n"
     ]
    }
   ],
   "source": [
    "for col in cat_cols:\n",
    "    target_summary_with_cat(df, \"isitma_yuku\", col)"
   ]
  },
  {
   "cell_type": "markdown",
   "id": "7830e7da",
   "metadata": {},
   "source": [
    "\n",
    "#### 10.1.2. Hedef Değişkenin Numerik Değişkenler ile Analizi\n"
   ]
  },
  {
   "cell_type": "code",
   "execution_count": 18,
   "id": "6b033a54",
   "metadata": {},
   "outputs": [],
   "source": [
    "def target_summary_with_num(dataframe, target, numerical_col):\n",
    "    print(dataframe.groupby(target).agg({numerical_col: \"mean\"}), end=\"\\n\\n\\n\")"
   ]
  },
  {
   "cell_type": "code",
   "execution_count": 19,
   "id": "5a46e605",
   "metadata": {},
   "outputs": [
    {
     "name": "stdout",
     "output_type": "stream",
     "text": [
      "             bagil_kompaktlik\n",
      "isitma_yuku                  \n",
      "6.01                     0.74\n",
      "6.04                     0.74\n",
      "6.05                     0.74\n",
      "6.07                     0.74\n",
      "6.37                     0.71\n",
      "...                       ...\n",
      "42.62                    0.79\n",
      "42.74                    0.79\n",
      "42.77                    0.79\n",
      "42.96                    0.79\n",
      "43.10                    0.79\n",
      "\n",
      "[586 rows x 1 columns]\n",
      "\n",
      "\n",
      "             yuzey_alani\n",
      "isitma_yuku             \n",
      "6.01               686.0\n",
      "6.04               686.0\n",
      "6.05               686.0\n",
      "6.07               686.0\n",
      "6.37               710.5\n",
      "...                  ...\n",
      "42.62              637.0\n",
      "42.74              637.0\n",
      "42.77              637.0\n",
      "42.96              637.0\n",
      "43.10              637.0\n",
      "\n",
      "[586 rows x 1 columns]\n",
      "\n",
      "\n",
      "             isitma_yuku\n",
      "isitma_yuku             \n",
      "6.01                6.01\n",
      "6.04                6.04\n",
      "6.05                6.05\n",
      "6.07                6.07\n",
      "6.37                6.37\n",
      "...                  ...\n",
      "42.62              42.62\n",
      "42.74              42.74\n",
      "42.77              42.77\n",
      "42.96              42.96\n",
      "43.10              43.10\n",
      "\n",
      "[586 rows x 1 columns]\n",
      "\n",
      "\n"
     ]
    }
   ],
   "source": [
    "for col in num_cols:\n",
    "    target_summary_with_num(df, \"isitma_yuku\", col)\n",
    "\n"
   ]
  },
  {
   "cell_type": "markdown",
   "id": "324c717b",
   "metadata": {},
   "source": [
    "### 1.11.Korelasyon analizi"
   ]
  },
  {
   "cell_type": "code",
   "execution_count": 20,
   "id": "0aa57a92-901f-4276-915f-fe7c59bcee19",
   "metadata": {},
   "outputs": [
    {
     "data": {
      "image/png": "[encoded data removed]",
      "text/plain": [
       "<Figure size 600x600 with 2 Axes>"
      ]
     },
     "metadata": {},
     "output_type": "display_data"
    }
   ],
   "source": [
    "\n",
    "num_cols = [col for col in df.columns if df[col].dtype in [int, float]]\n",
    "\n",
    "corr = df[num_cols].corr()\n",
    "\n",
    "sns.set(rc={'figure.figsize': (6, 6)})\n",
    "sns.heatmap(corr, cmap=\"RdBu\", annot=True, fmt=\".2f\")\n",
    "plt.show()\n"
   ]
  },
  {
   "cell_type": "markdown",
   "id": "d77c98a0",
   "metadata": {},
   "source": [
    "####  1.11.1. Korelasyon Analizi Matris Tablosu"
   ]
  },
  {
   "cell_type": "code",
   "execution_count": 22,
   "id": "a47f955b-19a7-495d-aee4-457e01c37d41",
   "metadata": {},
   "outputs": [
    {
     "data": {
      "text/html": [
       "<div>\n",
       "<style scoped>\n",
       "    .dataframe tbody tr th:only-of-type {\n",
       "        vertical-align: middle;\n",
       "    }\n",
       "\n",
       "    .dataframe tbody tr th {\n",
       "        vertical-align: top;\n",
       "    }\n",
       "\n",
       "    .dataframe thead th {\n",
       "        text-align: right;\n",
       "    }\n",
       "</style>\n",
       "<table border=\"1\" class=\"dataframe\">\n",
       "  <thead>\n",
       "    <tr style=\"text-align: right;\">\n",
       "      <th></th>\n",
       "      <th>bagil_kompaktlik</th>\n",
       "      <th>yuzey_alani</th>\n",
       "      <th>duvar_alani</th>\n",
       "      <th>cati_alani</th>\n",
       "      <th>toplam_yukseklik</th>\n",
       "      <th>oryantasyon</th>\n",
       "      <th>cam_alani</th>\n",
       "      <th>cam_alani_dagilimi</th>\n",
       "      <th>isitma_yuku</th>\n",
       "    </tr>\n",
       "  </thead>\n",
       "  <tbody>\n",
       "    <tr>\n",
       "      <th>bagil_kompaktlik</th>\n",
       "      <td>1.000000e+00</td>\n",
       "      <td>9.919015e-01</td>\n",
       "      <td>2.037817e-01</td>\n",
       "      <td>8.688234e-01</td>\n",
       "      <td>8.277473e-01</td>\n",
       "      <td>4.678592e-17</td>\n",
       "      <td>2.960552e-15</td>\n",
       "      <td>7.107006e-16</td>\n",
       "      <td>0.622272</td>\n",
       "    </tr>\n",
       "    <tr>\n",
       "      <th>yuzey_alani</th>\n",
       "      <td>9.919015e-01</td>\n",
       "      <td>1.000000e+00</td>\n",
       "      <td>1.955016e-01</td>\n",
       "      <td>8.807195e-01</td>\n",
       "      <td>8.581477e-01</td>\n",
       "      <td>3.459372e-17</td>\n",
       "      <td>3.636925e-15</td>\n",
       "      <td>2.438409e-15</td>\n",
       "      <td>0.658120</td>\n",
       "    </tr>\n",
       "    <tr>\n",
       "      <th>duvar_alani</th>\n",
       "      <td>2.037817e-01</td>\n",
       "      <td>1.955016e-01</td>\n",
       "      <td>1.000000e+00</td>\n",
       "      <td>2.923165e-01</td>\n",
       "      <td>2.809757e-01</td>\n",
       "      <td>2.429499e-17</td>\n",
       "      <td>8.567455e-17</td>\n",
       "      <td>2.067384e-16</td>\n",
       "      <td>0.455671</td>\n",
       "    </tr>\n",
       "    <tr>\n",
       "      <th>cati_alani</th>\n",
       "      <td>8.688234e-01</td>\n",
       "      <td>8.807195e-01</td>\n",
       "      <td>2.923165e-01</td>\n",
       "      <td>1.000000e+00</td>\n",
       "      <td>9.725122e-01</td>\n",
       "      <td>5.830058e-17</td>\n",
       "      <td>1.759011e-15</td>\n",
       "      <td>1.078071e-15</td>\n",
       "      <td>0.861828</td>\n",
       "    </tr>\n",
       "    <tr>\n",
       "      <th>toplam_yukseklik</th>\n",
       "      <td>8.277473e-01</td>\n",
       "      <td>8.581477e-01</td>\n",
       "      <td>2.809757e-01</td>\n",
       "      <td>9.725122e-01</td>\n",
       "      <td>1.000000e+00</td>\n",
       "      <td>4.492205e-17</td>\n",
       "      <td>1.489134e-17</td>\n",
       "      <td>2.920613e-17</td>\n",
       "      <td>0.889431</td>\n",
       "    </tr>\n",
       "    <tr>\n",
       "      <th>oryantasyon</th>\n",
       "      <td>4.678592e-17</td>\n",
       "      <td>3.459372e-17</td>\n",
       "      <td>2.429499e-17</td>\n",
       "      <td>5.830058e-17</td>\n",
       "      <td>4.492205e-17</td>\n",
       "      <td>1.000000e+00</td>\n",
       "      <td>9.406007e-16</td>\n",
       "      <td>2.549352e-16</td>\n",
       "      <td>0.002587</td>\n",
       "    </tr>\n",
       "    <tr>\n",
       "      <th>cam_alani</th>\n",
       "      <td>2.960552e-15</td>\n",
       "      <td>3.636925e-15</td>\n",
       "      <td>8.567455e-17</td>\n",
       "      <td>1.759011e-15</td>\n",
       "      <td>1.489134e-17</td>\n",
       "      <td>9.406007e-16</td>\n",
       "      <td>1.000000e+00</td>\n",
       "      <td>2.129642e-01</td>\n",
       "      <td>0.269841</td>\n",
       "    </tr>\n",
       "    <tr>\n",
       "      <th>cam_alani_dagilimi</th>\n",
       "      <td>7.107006e-16</td>\n",
       "      <td>2.438409e-15</td>\n",
       "      <td>2.067384e-16</td>\n",
       "      <td>1.078071e-15</td>\n",
       "      <td>2.920613e-17</td>\n",
       "      <td>2.549352e-16</td>\n",
       "      <td>2.129642e-01</td>\n",
       "      <td>1.000000e+00</td>\n",
       "      <td>0.087368</td>\n",
       "    </tr>\n",
       "    <tr>\n",
       "      <th>isitma_yuku</th>\n",
       "      <td>6.222722e-01</td>\n",
       "      <td>6.581202e-01</td>\n",
       "      <td>4.556712e-01</td>\n",
       "      <td>8.618283e-01</td>\n",
       "      <td>8.894307e-01</td>\n",
       "      <td>2.586534e-03</td>\n",
       "      <td>2.698410e-01</td>\n",
       "      <td>8.736759e-02</td>\n",
       "      <td>1.000000</td>\n",
       "    </tr>\n",
       "  </tbody>\n",
       "</table>\n",
       "</div>"
      ],
      "text/plain": [
       "                    bagil_kompaktlik   yuzey_alani   duvar_alani  \\\n",
       "bagil_kompaktlik        1.000000e+00  9.919015e-01  2.037817e-01   \n",
       "yuzey_alani             9.919015e-01  1.000000e+00  1.955016e-01   \n",
       "duvar_alani             2.037817e-01  1.955016e-01  1.000000e+00   \n",
       "cati_alani              8.688234e-01  8.807195e-01  2.923165e-01   \n",
       "toplam_yukseklik        8.277473e-01  8.581477e-01  2.809757e-01   \n",
       "oryantasyon             4.678592e-17  3.459372e-17  2.429499e-17   \n",
       "cam_alani               2.960552e-15  3.636925e-15  8.567455e-17   \n",
       "cam_alani_dagilimi      7.107006e-16  2.438409e-15  2.067384e-16   \n",
       "isitma_yuku             6.222722e-01  6.581202e-01  4.556712e-01   \n",
       "\n",
       "                      cati_alani  toplam_yukseklik   oryantasyon  \\\n",
       "bagil_kompaktlik    8.688234e-01      8.277473e-01  4.678592e-17   \n",
       "yuzey_alani         8.807195e-01      8.581477e-01  3.459372e-17   \n",
       "duvar_alani         2.923165e-01      2.809757e-01  2.429499e-17   \n",
       "cati_alani          1.000000e+00      9.725122e-01  5.830058e-17   \n",
       "toplam_yukseklik    9.725122e-01      1.000000e+00  4.492205e-17   \n",
       "oryantasyon         5.830058e-17      4.492205e-17  1.000000e+00   \n",
       "cam_alani           1.759011e-15      1.489134e-17  9.406007e-16   \n",
       "cam_alani_dagilimi  1.078071e-15      2.920613e-17  2.549352e-16   \n",
       "isitma_yuku         8.618283e-01      8.894307e-01  2.586534e-03   \n",
       "\n",
       "                       cam_alani  cam_alani_dagilimi  isitma_yuku  \n",
       "bagil_kompaktlik    2.960552e-15        7.107006e-16     0.622272  \n",
       "yuzey_alani         3.636925e-15        2.438409e-15     0.658120  \n",
       "duvar_alani         8.567455e-17        2.067384e-16     0.455671  \n",
       "cati_alani          1.759011e-15        1.078071e-15     0.861828  \n",
       "toplam_yukseklik    1.489134e-17        2.920613e-17     0.889431  \n",
       "oryantasyon         9.406007e-16        2.549352e-16     0.002587  \n",
       "cam_alani           1.000000e+00        2.129642e-01     0.269841  \n",
       "cam_alani_dagilimi  2.129642e-01        1.000000e+00     0.087368  \n",
       "isitma_yuku         2.698410e-01        8.736759e-02     1.000000  "
      ]
     },
     "execution_count": 22,
     "metadata": {},
     "output_type": "execute_result"
    }
   ],
   "source": [
    "#korelasyon matrisi tablosu\n",
    "cor_matrix = df.corr().abs()\n",
    "cor_matrix"
   ]
  },
  {
   "cell_type": "markdown",
   "id": "611f4cf5",
   "metadata": {},
   "source": [
    "#### 1.11.2. Korelasyon analizi matris tab 2"
   ]
  },
  {
   "cell_type": "code",
   "execution_count": 23,
   "id": "4e7d099a-59e9-4644-bda4-8c95ab174f3e",
   "metadata": {},
   "outputs": [
    {
     "data": {
      "text/html": [
       "<div>\n",
       "<style scoped>\n",
       "    .dataframe tbody tr th:only-of-type {\n",
       "        vertical-align: middle;\n",
       "    }\n",
       "\n",
       "    .dataframe tbody tr th {\n",
       "        vertical-align: top;\n",
       "    }\n",
       "\n",
       "    .dataframe thead th {\n",
       "        text-align: right;\n",
       "    }\n",
       "</style>\n",
       "<table border=\"1\" class=\"dataframe\">\n",
       "  <thead>\n",
       "    <tr style=\"text-align: right;\">\n",
       "      <th></th>\n",
       "      <th>bagil_kompaktlik</th>\n",
       "      <th>yuzey_alani</th>\n",
       "      <th>duvar_alani</th>\n",
       "      <th>cati_alani</th>\n",
       "      <th>toplam_yukseklik</th>\n",
       "      <th>oryantasyon</th>\n",
       "      <th>cam_alani</th>\n",
       "      <th>cam_alani_dagilimi</th>\n",
       "      <th>isitma_yuku</th>\n",
       "    </tr>\n",
       "  </thead>\n",
       "  <tbody>\n",
       "    <tr>\n",
       "      <th>bagil_kompaktlik</th>\n",
       "      <td>NaN</td>\n",
       "      <td>0.991901</td>\n",
       "      <td>0.203782</td>\n",
       "      <td>0.868823</td>\n",
       "      <td>0.827747</td>\n",
       "      <td>4.678592e-17</td>\n",
       "      <td>2.960552e-15</td>\n",
       "      <td>7.107006e-16</td>\n",
       "      <td>0.622272</td>\n",
       "    </tr>\n",
       "    <tr>\n",
       "      <th>yuzey_alani</th>\n",
       "      <td>NaN</td>\n",
       "      <td>NaN</td>\n",
       "      <td>0.195502</td>\n",
       "      <td>0.880720</td>\n",
       "      <td>0.858148</td>\n",
       "      <td>3.459372e-17</td>\n",
       "      <td>3.636925e-15</td>\n",
       "      <td>2.438409e-15</td>\n",
       "      <td>0.658120</td>\n",
       "    </tr>\n",
       "    <tr>\n",
       "      <th>duvar_alani</th>\n",
       "      <td>NaN</td>\n",
       "      <td>NaN</td>\n",
       "      <td>NaN</td>\n",
       "      <td>0.292316</td>\n",
       "      <td>0.280976</td>\n",
       "      <td>2.429499e-17</td>\n",
       "      <td>8.567455e-17</td>\n",
       "      <td>2.067384e-16</td>\n",
       "      <td>0.455671</td>\n",
       "    </tr>\n",
       "    <tr>\n",
       "      <th>cati_alani</th>\n",
       "      <td>NaN</td>\n",
       "      <td>NaN</td>\n",
       "      <td>NaN</td>\n",
       "      <td>NaN</td>\n",
       "      <td>0.972512</td>\n",
       "      <td>5.830058e-17</td>\n",
       "      <td>1.759011e-15</td>\n",
       "      <td>1.078071e-15</td>\n",
       "      <td>0.861828</td>\n",
       "    </tr>\n",
       "    <tr>\n",
       "      <th>toplam_yukseklik</th>\n",
       "      <td>NaN</td>\n",
       "      <td>NaN</td>\n",
       "      <td>NaN</td>\n",
       "      <td>NaN</td>\n",
       "      <td>NaN</td>\n",
       "      <td>4.492205e-17</td>\n",
       "      <td>1.489134e-17</td>\n",
       "      <td>2.920613e-17</td>\n",
       "      <td>0.889431</td>\n",
       "    </tr>\n",
       "    <tr>\n",
       "      <th>oryantasyon</th>\n",
       "      <td>NaN</td>\n",
       "      <td>NaN</td>\n",
       "      <td>NaN</td>\n",
       "      <td>NaN</td>\n",
       "      <td>NaN</td>\n",
       "      <td>NaN</td>\n",
       "      <td>9.406007e-16</td>\n",
       "      <td>2.549352e-16</td>\n",
       "      <td>0.002587</td>\n",
       "    </tr>\n",
       "    <tr>\n",
       "      <th>cam_alani</th>\n",
       "      <td>NaN</td>\n",
       "      <td>NaN</td>\n",
       "      <td>NaN</td>\n",
       "      <td>NaN</td>\n",
       "      <td>NaN</td>\n",
       "      <td>NaN</td>\n",
       "      <td>NaN</td>\n",
       "      <td>2.129642e-01</td>\n",
       "      <td>0.269841</td>\n",
       "    </tr>\n",
       "    <tr>\n",
       "      <th>cam_alani_dagilimi</th>\n",
       "      <td>NaN</td>\n",
       "      <td>NaN</td>\n",
       "      <td>NaN</td>\n",
       "      <td>NaN</td>\n",
       "      <td>NaN</td>\n",
       "      <td>NaN</td>\n",
       "      <td>NaN</td>\n",
       "      <td>NaN</td>\n",
       "      <td>0.087368</td>\n",
       "    </tr>\n",
       "    <tr>\n",
       "      <th>isitma_yuku</th>\n",
       "      <td>NaN</td>\n",
       "      <td>NaN</td>\n",
       "      <td>NaN</td>\n",
       "      <td>NaN</td>\n",
       "      <td>NaN</td>\n",
       "      <td>NaN</td>\n",
       "      <td>NaN</td>\n",
       "      <td>NaN</td>\n",
       "      <td>NaN</td>\n",
       "    </tr>\n",
       "  </tbody>\n",
       "</table>\n",
       "</div>"
      ],
      "text/plain": [
       "                    bagil_kompaktlik  yuzey_alani  duvar_alani  cati_alani  \\\n",
       "bagil_kompaktlik                 NaN     0.991901     0.203782    0.868823   \n",
       "yuzey_alani                      NaN          NaN     0.195502    0.880720   \n",
       "duvar_alani                      NaN          NaN          NaN    0.292316   \n",
       "cati_alani                       NaN          NaN          NaN         NaN   \n",
       "toplam_yukseklik                 NaN          NaN          NaN         NaN   \n",
       "oryantasyon                      NaN          NaN          NaN         NaN   \n",
       "cam_alani                        NaN          NaN          NaN         NaN   \n",
       "cam_alani_dagilimi               NaN          NaN          NaN         NaN   \n",
       "isitma_yuku                      NaN          NaN          NaN         NaN   \n",
       "\n",
       "                    toplam_yukseklik   oryantasyon     cam_alani  \\\n",
       "bagil_kompaktlik            0.827747  4.678592e-17  2.960552e-15   \n",
       "yuzey_alani                 0.858148  3.459372e-17  3.636925e-15   \n",
       "duvar_alani                 0.280976  2.429499e-17  8.567455e-17   \n",
       "cati_alani                  0.972512  5.830058e-17  1.759011e-15   \n",
       "toplam_yukseklik                 NaN  4.492205e-17  1.489134e-17   \n",
       "oryantasyon                      NaN           NaN  9.406007e-16   \n",
       "cam_alani                        NaN           NaN           NaN   \n",
       "cam_alani_dagilimi               NaN           NaN           NaN   \n",
       "isitma_yuku                      NaN           NaN           NaN   \n",
       "\n",
       "                    cam_alani_dagilimi  isitma_yuku  \n",
       "bagil_kompaktlik          7.107006e-16     0.622272  \n",
       "yuzey_alani               2.438409e-15     0.658120  \n",
       "duvar_alani               2.067384e-16     0.455671  \n",
       "cati_alani                1.078071e-15     0.861828  \n",
       "toplam_yukseklik          2.920613e-17     0.889431  \n",
       "oryantasyon               2.549352e-16     0.002587  \n",
       "cam_alani                 2.129642e-01     0.269841  \n",
       "cam_alani_dagilimi                 NaN     0.087368  \n",
       "isitma_yuku                        NaN          NaN  "
      ]
     },
     "execution_count": 23,
     "metadata": {},
     "output_type": "execute_result"
    }
   ],
   "source": [
    "upper_triangle_matrix = cor_matrix.where(np.triu(np.ones(cor_matrix.shape), k=1).astype(bool))\n",
    "upper_triangle_matrix"
   ]
  },
  {
   "cell_type": "markdown",
   "id": "8b231d3a",
   "metadata": {},
   "source": [
    "## 2. Bölüm"
   ]
  },
  {
   "cell_type": "markdown",
   "id": "7dcecfbc",
   "metadata": {},
   "source": [
    "## 2. Feature Enginerring"
   ]
  },
  {
   "cell_type": "markdown",
   "id": "aad2eeaf",
   "metadata": {},
   "source": [
    "### 2.1. Aykırı Değer Analizi"
   ]
  },
  {
   "cell_type": "markdown",
   "id": "199f2aac",
   "metadata": {},
   "source": [
    "#### 2.1.1. Boxplot yöntemi(IQR Fonksiyonu tanımlama)"
   ]
  },
  {
   "cell_type": "code",
   "execution_count": 24,
   "id": "6dbd8da5-e3cd-4348-be9e-57a3c82cccf5",
   "metadata": {},
   "outputs": [],
   "source": [
    "def outlier_thresholds(dataframe, col_name, q1=0.25, q3=0.75):\n",
    "    quartile1 = dataframe[col_name].quantile(q1)\n",
    "    quartile3 = dataframe[col_name].quantile(q3)\n",
    "    interquantile_range = quartile3 - quartile1\n",
    "    up_limit = quartile3 + 1.5 * interquantile_range\n",
    "    low_limit = quartile1 - 1.5 * interquantile_range\n",
    "    return low_limit, up_limit"
   ]
  },
  {
   "cell_type": "markdown",
   "id": "b6a2a694",
   "metadata": {},
   "source": [
    "#### 2.1.2. IQR Alt ve Üst Limitlerini Belirleme"
   ]
  },
  {
   "cell_type": "code",
   "execution_count": 25,
   "id": "674cdd92-6124-4668-9d8e-7cf5d6c64b21",
   "metadata": {},
   "outputs": [],
   "source": [
    "def check_outlier(dataframe, col_name):\n",
    "    low_limit, up_limit = outlier_thresholds(dataframe, col_name)\n",
    "    if dataframe[(dataframe[col_name] > up_limit) | (dataframe[col_name] < low_limit)].any(axis=None):\n",
    "        return True\n",
    "    else:\n",
    "        return False\n"
   ]
  },
  {
   "cell_type": "markdown",
   "id": "758a4eb2",
   "metadata": {},
   "source": [
    "#### 2.1.3. Aykırı Değeri Olan Değişkenler"
   ]
  },
  {
   "cell_type": "code",
   "execution_count": 26,
   "id": "0dbf0e78-74d9-43d9-a1e9-4c3b4e26d037",
   "metadata": {},
   "outputs": [
    {
     "name": "stdout",
     "output_type": "stream",
     "text": [
      "bagil_kompaktlik False\n",
      "yuzey_alani False\n",
      "duvar_alani False\n",
      "cati_alani False\n",
      "toplam_yukseklik False\n",
      "cam_alani False\n",
      "isitma_yuku False\n"
     ]
    }
   ],
   "source": [
    "for col in num_cols:\n",
    "    print(col, check_outlier(df, col))"
   ]
  },
  {
   "cell_type": "markdown",
   "id": "f62900d0",
   "metadata": {},
   "source": [
    "### 2.2. Eksik Değerler(Missing Value)"
   ]
  },
  {
   "cell_type": "code",
   "execution_count": 27,
   "id": "c17e4ac5",
   "metadata": {},
   "outputs": [
    {
     "data": {
      "text/plain": [
       "False"
      ]
     },
     "execution_count": 27,
     "metadata": {},
     "output_type": "execute_result"
    }
   ],
   "source": [
    "df.isnull().values.any()"
   ]
  },
  {
   "cell_type": "code",
   "execution_count": 28,
   "id": "00ec73a1",
   "metadata": {},
   "outputs": [
    {
     "data": {
      "text/plain": [
       "0"
      ]
     },
     "execution_count": 28,
     "metadata": {},
     "output_type": "execute_result"
    }
   ],
   "source": [
    "df.isnull().sum().sum()# eksik veri sayısı"
   ]
  },
  {
   "cell_type": "markdown",
   "id": "e73e1897",
   "metadata": {},
   "source": [
    "eksik verimiz yok."
   ]
  },
  {
   "cell_type": "markdown",
   "id": "2de2abcf",
   "metadata": {},
   "source": [
    "### 2.4. Özellik Ölçeklendirme(Scale)"
   ]
  },
  {
   "cell_type": "code",
   "execution_count": 29,
   "id": "709c0080-1943-460c-a492-df21e56824cd",
   "metadata": {},
   "outputs": [],
   "source": [
    "y = df[\"isitma_yuku\"]\n",
    "X = df.drop([\"isitma_yuku\"], axis=1)"
   ]
  },
  {
   "cell_type": "code",
   "execution_count": 30,
   "id": "ecb02028-5048-4b6d-bcd7-738a9c17d827",
   "metadata": {},
   "outputs": [
    {
     "data": {
      "text/plain": [
       "0    15.55\n",
       "1    15.55\n",
       "2    15.55\n",
       "3    15.55\n",
       "4    20.84\n",
       "Name: isitma_yuku, dtype: float64"
      ]
     },
     "execution_count": 30,
     "metadata": {},
     "output_type": "execute_result"
    }
   ],
   "source": [
    "y.head()"
   ]
  },
  {
   "cell_type": "code",
   "execution_count": 31,
   "id": "01992e88-a3ae-429c-95b8-e7649d299510",
   "metadata": {},
   "outputs": [],
   "source": [
    "scaler= RobustScaler()\n",
    "df[X.columns.to_list()]=scaler.fit_transform(df[X.columns.to_list()])"
   ]
  },
  {
   "cell_type": "code",
   "execution_count": 32,
   "id": "def9737f-8e7b-4aed-9eab-eef1f7455b1a",
   "metadata": {
    "scrolled": true
   },
   "outputs": [
    {
     "data": {
      "text/html": [
       "<div>\n",
       "<style scoped>\n",
       "    .dataframe tbody tr th:only-of-type {\n",
       "        vertical-align: middle;\n",
       "    }\n",
       "\n",
       "    .dataframe tbody tr th {\n",
       "        vertical-align: top;\n",
       "    }\n",
       "\n",
       "    .dataframe thead th {\n",
       "        text-align: right;\n",
       "    }\n",
       "</style>\n",
       "<table border=\"1\" class=\"dataframe\">\n",
       "  <thead>\n",
       "    <tr style=\"text-align: right;\">\n",
       "      <th></th>\n",
       "      <th>bagil_kompaktlik</th>\n",
       "      <th>yuzey_alani</th>\n",
       "      <th>duvar_alani</th>\n",
       "      <th>cati_alani</th>\n",
       "      <th>toplam_yukseklik</th>\n",
       "      <th>oryantasyon</th>\n",
       "      <th>cam_alani</th>\n",
       "      <th>cam_alani_dagilimi</th>\n",
       "      <th>isitma_yuku</th>\n",
       "    </tr>\n",
       "  </thead>\n",
       "  <tbody>\n",
       "    <tr>\n",
       "      <th>0</th>\n",
       "      <td>1.559322</td>\n",
       "      <td>-1.181818</td>\n",
       "      <td>-0.5</td>\n",
       "      <td>-0.923077</td>\n",
       "      <td>0.5</td>\n",
       "      <td>-1.000000</td>\n",
       "      <td>-0.833333</td>\n",
       "      <td>-1.333333</td>\n",
       "      <td>15.55</td>\n",
       "    </tr>\n",
       "    <tr>\n",
       "      <th>1</th>\n",
       "      <td>1.559322</td>\n",
       "      <td>-1.181818</td>\n",
       "      <td>-0.5</td>\n",
       "      <td>-0.923077</td>\n",
       "      <td>0.5</td>\n",
       "      <td>-0.333333</td>\n",
       "      <td>-0.833333</td>\n",
       "      <td>-1.333333</td>\n",
       "      <td>15.55</td>\n",
       "    </tr>\n",
       "    <tr>\n",
       "      <th>2</th>\n",
       "      <td>1.559322</td>\n",
       "      <td>-1.181818</td>\n",
       "      <td>-0.5</td>\n",
       "      <td>-0.923077</td>\n",
       "      <td>0.5</td>\n",
       "      <td>0.333333</td>\n",
       "      <td>-0.833333</td>\n",
       "      <td>-1.333333</td>\n",
       "      <td>15.55</td>\n",
       "    </tr>\n",
       "    <tr>\n",
       "      <th>3</th>\n",
       "      <td>1.559322</td>\n",
       "      <td>-1.181818</td>\n",
       "      <td>-0.5</td>\n",
       "      <td>-0.923077</td>\n",
       "      <td>0.5</td>\n",
       "      <td>1.000000</td>\n",
       "      <td>-0.833333</td>\n",
       "      <td>-1.333333</td>\n",
       "      <td>15.55</td>\n",
       "    </tr>\n",
       "    <tr>\n",
       "      <th>4</th>\n",
       "      <td>1.016949</td>\n",
       "      <td>-0.818182</td>\n",
       "      <td>0.0</td>\n",
       "      <td>-0.769231</td>\n",
       "      <td>0.5</td>\n",
       "      <td>-1.000000</td>\n",
       "      <td>-0.833333</td>\n",
       "      <td>-1.333333</td>\n",
       "      <td>20.84</td>\n",
       "    </tr>\n",
       "  </tbody>\n",
       "</table>\n",
       "</div>"
      ],
      "text/plain": [
       "   bagil_kompaktlik  yuzey_alani  duvar_alani  cati_alani  toplam_yukseklik  \\\n",
       "0          1.559322    -1.181818         -0.5   -0.923077               0.5   \n",
       "1          1.559322    -1.181818         -0.5   -0.923077               0.5   \n",
       "2          1.559322    -1.181818         -0.5   -0.923077               0.5   \n",
       "3          1.559322    -1.181818         -0.5   -0.923077               0.5   \n",
       "4          1.016949    -0.818182          0.0   -0.769231               0.5   \n",
       "\n",
       "   oryantasyon  cam_alani  cam_alani_dagilimi  isitma_yuku  \n",
       "0    -1.000000  -0.833333           -1.333333        15.55  \n",
       "1    -0.333333  -0.833333           -1.333333        15.55  \n",
       "2     0.333333  -0.833333           -1.333333        15.55  \n",
       "3     1.000000  -0.833333           -1.333333        15.55  \n",
       "4    -1.000000  -0.833333           -1.333333        20.84  "
      ]
     },
     "execution_count": 32,
     "metadata": {},
     "output_type": "execute_result"
    }
   ],
   "source": [
    "df.head()"
   ]
  },
  {
   "cell_type": "markdown",
   "id": "d812d755",
   "metadata": {},
   "source": [
    "## 3. BÖLÜM"
   ]
  },
  {
   "cell_type": "markdown",
   "id": "c67f09c3-69ae-44e7-9875-b34d7bf1c607",
   "metadata": {},
   "source": [
    "## 3. MODELLERİN KURULUMU VE EĞİTİMİ"
   ]
  },
  {
   "cell_type": "code",
   "execution_count": null,
   "id": "680e8b26",
   "metadata": {},
   "outputs": [],
   "source": []
  },
  {
   "cell_type": "markdown",
   "id": "bcc1d626",
   "metadata": {},
   "source": [
    "### 3.1. Eğitim - Validation - Test olarak ayrılması"
   ]
  },
  {
   "cell_type": "code",
   "execution_count": 33,
   "id": "2a9aa34d-2d65-439b-8644-33f92be20a1e",
   "metadata": {},
   "outputs": [],
   "source": [
    "from sklearn.model_selection import train_test_split\n",
    "\n",
    "# Veri setini train ve test setlerine ayırma\n",
    "X_train, X_temp, y_train, y_temp = train_test_split(X, y, test_size=0.2, random_state=17)\n",
    "\n",
    "# Kalan veri setini validation ve test setlerine ayırma\n",
    "X_validation, X_test, y_validation, y_test = train_test_split(X_temp, y_temp, test_size=0.5, random_state=17)\n"
   ]
  },
  {
   "cell_type": "code",
   "execution_count": 34,
   "id": "80bb6f7b-87b3-46fc-9235-a1e3ddf1fbc8",
   "metadata": {},
   "outputs": [
    {
     "data": {
      "text/html": [
       "<div>\n",
       "<style scoped>\n",
       "    .dataframe tbody tr th:only-of-type {\n",
       "        vertical-align: middle;\n",
       "    }\n",
       "\n",
       "    .dataframe tbody tr th {\n",
       "        vertical-align: top;\n",
       "    }\n",
       "\n",
       "    .dataframe thead th {\n",
       "        text-align: right;\n",
       "    }\n",
       "</style>\n",
       "<table border=\"1\" class=\"dataframe\">\n",
       "  <thead>\n",
       "    <tr style=\"text-align: right;\">\n",
       "      <th></th>\n",
       "      <th>bagil_kompaktlik</th>\n",
       "      <th>yuzey_alani</th>\n",
       "      <th>duvar_alani</th>\n",
       "      <th>cati_alani</th>\n",
       "      <th>toplam_yukseklik</th>\n",
       "      <th>oryantasyon</th>\n",
       "      <th>cam_alani</th>\n",
       "      <th>cam_alani_dagilimi</th>\n",
       "    </tr>\n",
       "  </thead>\n",
       "  <tbody>\n",
       "    <tr>\n",
       "      <th>679</th>\n",
       "      <td>0.90</td>\n",
       "      <td>563.5</td>\n",
       "      <td>318.5</td>\n",
       "      <td>122.5</td>\n",
       "      <td>7.0</td>\n",
       "      <td>5</td>\n",
       "      <td>0.40</td>\n",
       "      <td>4</td>\n",
       "    </tr>\n",
       "    <tr>\n",
       "      <th>134</th>\n",
       "      <td>0.66</td>\n",
       "      <td>759.5</td>\n",
       "      <td>318.5</td>\n",
       "      <td>220.5</td>\n",
       "      <td>3.5</td>\n",
       "      <td>4</td>\n",
       "      <td>0.10</td>\n",
       "      <td>2</td>\n",
       "    </tr>\n",
       "    <tr>\n",
       "      <th>250</th>\n",
       "      <td>0.86</td>\n",
       "      <td>588.0</td>\n",
       "      <td>294.0</td>\n",
       "      <td>147.0</td>\n",
       "      <td>7.0</td>\n",
       "      <td>4</td>\n",
       "      <td>0.10</td>\n",
       "      <td>5</td>\n",
       "    </tr>\n",
       "    <tr>\n",
       "      <th>470</th>\n",
       "      <td>0.66</td>\n",
       "      <td>759.5</td>\n",
       "      <td>318.5</td>\n",
       "      <td>220.5</td>\n",
       "      <td>3.5</td>\n",
       "      <td>4</td>\n",
       "      <td>0.25</td>\n",
       "      <td>4</td>\n",
       "    </tr>\n",
       "    <tr>\n",
       "      <th>668</th>\n",
       "      <td>0.62</td>\n",
       "      <td>808.5</td>\n",
       "      <td>367.5</td>\n",
       "      <td>220.5</td>\n",
       "      <td>3.5</td>\n",
       "      <td>2</td>\n",
       "      <td>0.40</td>\n",
       "      <td>3</td>\n",
       "    </tr>\n",
       "  </tbody>\n",
       "</table>\n",
       "</div>"
      ],
      "text/plain": [
       "     bagil_kompaktlik  yuzey_alani  duvar_alani  cati_alani  toplam_yukseklik  \\\n",
       "679              0.90        563.5        318.5       122.5               7.0   \n",
       "134              0.66        759.5        318.5       220.5               3.5   \n",
       "250              0.86        588.0        294.0       147.0               7.0   \n",
       "470              0.66        759.5        318.5       220.5               3.5   \n",
       "668              0.62        808.5        367.5       220.5               3.5   \n",
       "\n",
       "     oryantasyon  cam_alani  cam_alani_dagilimi  \n",
       "679            5       0.40                   4  \n",
       "134            4       0.10                   2  \n",
       "250            4       0.10                   5  \n",
       "470            4       0.25                   4  \n",
       "668            2       0.40                   3  "
      ]
     },
     "execution_count": 34,
     "metadata": {},
     "output_type": "execute_result"
    }
   ],
   "source": [
    "X_train.head()"
   ]
  },
  {
   "cell_type": "code",
   "execution_count": 35,
   "id": "e2ac5f52-5781-4523-acab-99a90bd3ebb2",
   "metadata": {},
   "outputs": [
    {
     "data": {
      "text/plain": [
       "bagil_kompaktlik      614\n",
       "yuzey_alani           614\n",
       "duvar_alani           614\n",
       "cati_alani            614\n",
       "toplam_yukseklik      614\n",
       "oryantasyon           614\n",
       "cam_alani             614\n",
       "cam_alani_dagilimi    614\n",
       "dtype: int64"
      ]
     },
     "execution_count": 35,
     "metadata": {},
     "output_type": "execute_result"
    }
   ],
   "source": [
    "X_train.count()"
   ]
  },
  {
   "cell_type": "code",
   "execution_count": 36,
   "id": "2414832a-313d-49eb-8410-e0ee12f3df0b",
   "metadata": {},
   "outputs": [
    {
     "data": {
      "text/plain": [
       "bagil_kompaktlik      77\n",
       "yuzey_alani           77\n",
       "duvar_alani           77\n",
       "cati_alani            77\n",
       "toplam_yukseklik      77\n",
       "oryantasyon           77\n",
       "cam_alani             77\n",
       "cam_alani_dagilimi    77\n",
       "dtype: int64"
      ]
     },
     "execution_count": 36,
     "metadata": {},
     "output_type": "execute_result"
    }
   ],
   "source": [
    "X_test.count()"
   ]
  },
  {
   "cell_type": "markdown",
   "id": "36db6536",
   "metadata": {},
   "source": [
    "### 3.2. Base Modellerin kurulumu"
   ]
  },
  {
   "cell_type": "code",
   "execution_count": 39,
   "id": "56b64d80",
   "metadata": {},
   "outputs": [],
   "source": [
    "import warnings\n",
    "# Tüm uyarıları kapatmak için\n",
    "warnings.filterwarnings(\"ignore\")\n",
    "from sklearn.linear_model import RANSACRegressor\n",
    "from sklearn.isotonic import IsotonicRegression\n",
    "from sklearn.ensemble import GradientBoostingRegressor\n",
    "from sklearn.ensemble import VotingRegressor\n",
    "from sklearn.ensemble import HistGradientBoostingRegressor\n",
    "from sklearn.experimental import enable_hist_gradient_boosting  # noqa\n",
    "from sklearn.compose import TransformedTargetRegressor\n",
    "from sklearn.ensemble import StackingRegressor\n",
    "from sklearn.linear_model import PoissonRegressor\n",
    "from sklearn.linear_model import TweedieRegressor\n",
    "from sklearn.linear_model import GammaRegressor\n",
    "from sklearn.model_selection import cross_validate\n",
    "from sklearn.linear_model import LinearRegression, Ridge, Lasso, ElasticNet, RidgeCV, LassoCV, ElasticNetCV\n",
    "from sklearn.svm import SVR\n",
    "from sklearn.tree import DecisionTreeRegressor\n",
    "from sklearn.ensemble import RandomForestRegressor, AdaBoostRegressor, GradientBoostingRegressor\n",
    "from xgboost import XGBRegressor\n",
    "from lightgbm import LGBMRegressor\n",
    "from sklearn.preprocessing import PolynomialFeatures\n",
    "from sklearn.neighbors import KNeighborsRegressor\n",
    "from sklearn.preprocessing import PolynomialFeatures\n",
    "from sklearn.neighbors import KNeighborsRegressor\n",
    "from sklearn.svm import LinearSVR\n",
    "from sklearn.neural_network import MLPRegressor\n",
    "from sklearn.linear_model import PassiveAggressiveRegressor\n",
    "from sklearn.linear_model import HuberRegressor\n",
    "from sklearn.linear_model import SGDRegressor\n",
    "from sklearn.kernel_ridge import KernelRidge\n",
    "from sklearn.gaussian_process import GaussianProcessRegressor\n",
    "from sklearn.gaussian_process.kernels import DotProduct, WhiteKernel\n",
    "from sklearn.ensemble import ExtraTreesRegressor, BaggingRegressor\n",
    "from sklearn.tree import ExtraTreeRegressor\n",
    "def base_models_regression(X_train, y_train, scoring=\"neg_mean_squared_error\"):\n",
    "    print(\"Base Models for Regression....\")\n",
    "    regressors = [('Linear Regression', LinearRegression()),\n",
    "                  ('Ridge Regression', Ridge(alpha=0.1)),\n",
    "                  ('Lasso', Lasso()),\n",
    "                  ('Elastic', ElasticNet()),\n",
    "                  ('RidgeCV', RidgeCV()),\n",
    "                  ('LassoCV', LassoCV()),\n",
    "                  ('ElasticNetCV', ElasticNetCV()),\n",
    "                  (\"SVR\", SVR(max_iter=100000)),\n",
    "                  (\"Linear SVR\", LinearSVR(max_iter=10000)),\n",
    "                  (\"Decision Tree\", DecisionTreeRegressor()),\n",
    "                  (\"Random Forest\", RandomForestRegressor()),\n",
    "                  ('Adaboost Regressor', AdaBoostRegressor()),\n",
    "                  ('Gradient Boosting Regressor', GradientBoostingRegressor()),\n",
    "                  ('XGBoost Regressor', XGBRegressor(use_label_encoder=False, eval_metric='logloss')),\n",
    "                  ('LightGBM Regressor', LGBMRegressor()),\n",
    "                  ('Polynomial Regression', PolynomialFeatures()),\n",
    "                  ('KNN Regressor', KNeighborsRegressor()),\n",
    "                  ('MLP Regressor', MLPRegressor(max_iter=1000)),\n",
    "                  ('Passive Aggressive Regressor', PassiveAggressiveRegressor()),\n",
    "                  ('Huber Regressor', HuberRegressor(max_iter=1000)),\n",
    "                  ('SGD Regressor', SGDRegressor()),\n",
    "                  ('Kernel Ridge Regression', KernelRidge()),\n",
    "                  ('Gaussian Process Regression', GaussianProcessRegressor(kernel=DotProduct() + WhiteKernel())),\n",
    "                  ('Extra Trees Regressor', ExtraTreesRegressor()),\n",
    "                  ('Bagging Regressor', BaggingRegressor()),\n",
    "                  ('Extra Tree Regressor', ExtraTreeRegressor()),\n",
    "                  ('RANSAC Regressor', RANSACRegressor()),\n",
    "                  ('Quantile Regressor', GradientBoostingRegressor(loss='quantile')),\n",
    "                  ('Gamma Regressor', GammaRegressor()),\n",
    "                  ('Tweedie Regressor', TweedieRegressor()),\n",
    "                  ('Poisson Regressor', PoissonRegressor())]\n",
    "\n",
    "    for name, regressor in regressors:\n",
    "        if isinstance(regressor, PolynomialFeatures):\n",
    "            poly = PolynomialFeatures(degree=2)\n",
    "            X_poly = poly.fit_transform(X)\n",
    "            cv_results = cross_validate(LinearRegression(), X_poly, y, cv=3, scoring=scoring)\n",
    "        elif isinstance(regressor, KNeighborsRegressor):\n",
    "            cv_results = cross_validate(KNeighborsRegressor(), X, y, cv=3, scoring=scoring)\n",
    "        else:\n",
    "            cv_results = cross_validate(regressor, X, y, cv=3, scoring=scoring)\n",
    "        print(f\"{scoring}: {round(np.abs(cv_results['test_score'].mean()), 4)} ({name}) \")"
   ]
  },
  {
   "cell_type": "code",
   "execution_count": 40,
   "id": "1af3df73",
   "metadata": {},
   "outputs": [
    {
     "name": "stdout",
     "output_type": "stream",
     "text": [
      "Base Models for Regression....\n",
      "neg_mean_squared_error: 10.973 (Linear Regression) \n",
      "neg_mean_squared_error: 11.445 (Ridge Regression) \n",
      "neg_mean_squared_error: 30.4133 (Lasso) \n",
      "neg_mean_squared_error: 29.3958 (Elastic) \n",
      "neg_mean_squared_error: 11.445 (RidgeCV) \n",
      "neg_mean_squared_error: 28.2935 (LassoCV) \n",
      "neg_mean_squared_error: 30.2809 (ElasticNetCV) \n",
      "neg_mean_squared_error: 39.4241 (SVR) \n",
      "neg_mean_squared_error: 98.7348 (Linear SVR) \n",
      "neg_mean_squared_error: 9.4161 (Decision Tree) \n",
      "neg_mean_squared_error: 9.3726 (Random Forest) \n",
      "neg_mean_squared_error: 17.4736 (Adaboost Regressor) \n",
      "neg_mean_squared_error: 9.0626 (Gradient Boosting Regressor) \n",
      "neg_mean_squared_error: 9.324 (XGBoost Regressor) \n",
      "neg_mean_squared_error: 9.3598 (LightGBM Regressor) \n",
      "neg_mean_squared_error: 25.8613 (Polynomial Regression) \n",
      "neg_mean_squared_error: 14.095 (KNN Regressor) \n",
      "neg_mean_squared_error: 20.5909 (MLP Regressor) \n",
      "neg_mean_squared_error: 44.6341 (Passive Aggressive Regressor) \n",
      "neg_mean_squared_error: 11.1335 (Huber Regressor) \n",
      "neg_mean_squared_error: 3.347902250851648e+28 (SGD Regressor) \n",
      "neg_mean_squared_error: 12.3741 (Kernel Ridge Regression) \n",
      "neg_mean_squared_error: 19.3897 (Gaussian Process Regression) \n",
      "neg_mean_squared_error: 7.654 (Extra Trees Regressor) \n",
      "neg_mean_squared_error: 9.4475 (Bagging Regressor) \n",
      "neg_mean_squared_error: 9.7696 (Extra Tree Regressor) \n",
      "neg_mean_squared_error: 11.6796 (RANSAC Regressor) \n",
      "neg_mean_squared_error: 12.6476 (Quantile Regressor) \n",
      "neg_mean_squared_error: 107.28 (Gamma Regressor) \n",
      "neg_mean_squared_error: 29.6337 (Tweedie Regressor) \n",
      "neg_mean_squared_error: 26.2718 (Poisson Regressor) \n"
     ]
    }
   ],
   "source": [
    "base_models_regression(X_train, y_train, scoring=\"neg_mean_squared_error\")"
   ]
  },
  {
   "cell_type": "markdown",
   "id": "37afaf41",
   "metadata": {},
   "source": [
    "### 3.3. Hiperparametre Optimizasyonu"
   ]
  },
  {
   "cell_type": "code",
   "execution_count": 42,
   "id": "2150ad53",
   "metadata": {},
   "outputs": [],
   "source": [
    "from sklearn.linear_model import Ridge, Lasso, ElasticNet, RidgeCV, LassoCV, ElasticNetCV\n",
    "from sklearn.svm import SVR, LinearSVR\n",
    "from sklearn.tree import DecisionTreeRegressor\n",
    "from sklearn.ensemble import RandomForestRegressor, AdaBoostRegressor, GradientBoostingRegressor\n",
    "from xgboost import XGBRegressor\n",
    "from lightgbm import LGBMRegressor\n",
    "from sklearn.neighbors import KNeighborsRegressor\n",
    "from sklearn.linear_model import PassiveAggressiveRegressor\n",
    "from sklearn.linear_model import HuberRegressor\n",
    "from sklearn.linear_model import SGDRegressor\n",
    "from sklearn.kernel_ridge import KernelRidge\n",
    "from sklearn.gaussian_process import GaussianProcessRegressor\n",
    "from sklearn.gaussian_process.kernels import DotProduct, WhiteKernel\n",
    "from sklearn.ensemble import ExtraTreesRegressor, BaggingRegressor\n",
    "from sklearn.tree import ExtraTreeRegressor\n",
    "\n",
    "# Hiperparametre aralıklarını belirleme\n",
    "ridge_params = {\"alpha\": [0.1, 1.0, 10.0]}  \n",
    "lasso_params = {\"alpha\": [0.1, 1.0, 10.0]}  \n",
    "elasticnet_params = {\"alpha\": [0.1, 1.0, 10.0], \"l1_ratio\": [0.1, 0.5, 0.9]}  \n",
    "svr_params = {\"C\": [0.1, 1.0, 10.0], \"epsilon\": [0.1, 0.01]}  \n",
    "decisiontree_params = {'max_depth': range(1, 20), \"min_samples_split\": range(2, 30)}  \n",
    "randomforest_params = {\"max_depth\": [8, 15, None], \"max_features\": [5, 7, \"auto\"], \"min_samples_split\": [15, 20], \"n_estimators\": [200, 300]} \n",
    "adaboost_params = {\"n_estimators\": [50, 100, 200]} \n",
    "gradientboost_params = {\"learning_rate\": [0.05, 0.1, 0.2], \"n_estimators\": [50, 100, 200], \"max_depth\": [3, 4, 5]}  \n",
    "xgboost_params = {\"learning_rate\": [0.1, 0.01], \"max_depth\": [5, 8], \"n_estimators\": [100, 200], \"colsample_bytree\": [0.5, 1]}  \n",
    "lightgbm_params = {\"learning_rate\": [0.01, 0.1], \"n_estimators\": [300, 500], \"colsample_bytree\": [0.7, 1]}  \n",
    "kneighbors_params = {\"n_neighbors\": [3, 5, 7], \"weights\": [\"uniform\", \"distance\"]} \n",
    "passiveaggressive_params = {\"C\": [0.1, 1.0, 10.0]}  \n",
    "huber_params = {\"epsilon\": [1.1, 1.35]}  \n",
    "sgd_params = {\"alpha\": [0.0001, 0.001, 0.01]}  \n",
    "kernelridge_params = {\"alpha\": [0.1, 1.0, 10.0]}  \n",
    "gaussianprocess_params = {\"kernel\": [DotProduct() + WhiteKernel()]}  \n",
    "extratrees_params = {\"n_estimators\": [100, 200, 300], \"max_features\": [\"auto\", \"sqrt\", \"log2\"]} \n",
    "bagging_params = {\"n_estimators\": [10, 20, 30]} \n",
    "extratree_params = {\"max_depth\": [None, 10, 20], \"min_samples_split\": [2, 5, 10]}  \n",
    "# Her bir model ve ilgili hiperparametre aralığını bir dizi içinde belirleme\n",
    "regressors = [\n",
    "    (\"Ridge Regression\", Ridge(), ridge_params),\n",
    "    (\"Lasso\", Lasso(), lasso_params),\n",
    "    (\"ElasticNet\", ElasticNet(), elasticnet_params),\n",
    "    (\"SVR\", SVR(), svr_params),\n",
    "    (\"Linear SVR\", LinearSVR(), svr_params),\n",
    "    (\"Decision Tree\", DecisionTreeRegressor(), decisiontree_params),\n",
    "    (\"Random Forest\", RandomForestRegressor(), randomforest_params),\n",
    "    (\"AdaBoost Regressor\", AdaBoostRegressor(), adaboost_params),\n",
    "    (\"Gradient Boosting Regressor\", GradientBoostingRegressor(), gradientboost_params),\n",
    "    ('XGBoost Regressor', XGBRegressor(use_label_encoder=False, eval_metric='logloss'), xgboost_params),\n",
    "    ('LightGBM Regressor', LGBMRegressor(), lightgbm_params),\n",
    "    (\"KNN Regressor\", KNeighborsRegressor(), kneighbors_params),\n",
    "    (\"Passive Aggressive Regressor\", PassiveAggressiveRegressor(), passiveaggressive_params),\n",
    "    (\"Huber Regressor\", HuberRegressor(), huber_params),\n",
    "    (\"SGD Regressor\", SGDRegressor(), sgd_params),\n",
    "    (\"Kernel Ridge Regression\", KernelRidge(), kernelridge_params),\n",
    "    (\"Extra Trees Regressor\", ExtraTreesRegressor(), extratrees_params),\n",
    "    (\"Bagging Regressor\", BaggingRegressor(), bagging_params),\n",
    "    (\"Extra Tree Regressor\", ExtraTreeRegressor(), extratree_params)\n",
    "]"
   ]
  },
  {
   "cell_type": "code",
   "execution_count": 43,
   "id": "cab7e280",
   "metadata": {},
   "outputs": [],
   "source": [
    "from sklearn.model_selection import GridSearchCV, cross_validate\n",
    "\n",
    "def hyperparameter_optimization(X, y, cv=3, scoring=\"neg_mean_squared_error\"):\n",
    "    print(\"Hyperparameter Optimization....\")\n",
    "    best_models = {}\n",
    "    for name, regressor, params in regressors:\n",
    "        print(f\"########## {name} ##########\")\n",
    "        cv_results = cross_validate(regressor, X, y, cv=cv, scoring=scoring)\n",
    "        print(f\"{scoring} (Before): {abs(round(cv_results['test_score'].mean(), 4))}\")\n",
    "\n",
    "        gs_best = GridSearchCV(regressor, params, cv=cv, n_jobs=-1, verbose=False).fit(X, y)\n",
    "        final_model = regressor.set_params(**gs_best.best_params_)\n",
    "\n",
    "        cv_results = cross_validate(final_model, X, y, cv=cv, scoring=scoring)\n",
    "        print(f\"{scoring} (After): {abs(round(cv_results['test_score'].mean(), 4))}\")\n",
    "        print(f\"{name} best params: {gs_best.best_params_}\", end=\"\\n\\n\")\n",
    "        best_models[name] = final_model\n",
    "    return best_models"
   ]
  },
  {
   "cell_type": "code",
   "execution_count": 44,
   "id": "0aa04552",
   "metadata": {},
   "outputs": [
    {
     "name": "stdout",
     "output_type": "stream",
     "text": [
      "Hyperparameter Optimization....\n",
      "########## Ridge Regression ##########\n",
      "neg_mean_squared_error (Before): 10.1178\n",
      "neg_mean_squared_error (After): 9.775\n",
      "Ridge Regression best params: {'alpha': 0.1}\n",
      "\n",
      "########## Lasso ##########\n",
      "neg_mean_squared_error (Before): 22.0818\n",
      "neg_mean_squared_error (After): 10.6859\n",
      "Lasso best params: {'alpha': 0.1}\n",
      "\n",
      "########## ElasticNet ##########\n",
      "neg_mean_squared_error (Before): 21.1105\n",
      "neg_mean_squared_error (After): 12.227\n",
      "ElasticNet best params: {'alpha': 0.1, 'l1_ratio': 0.9}\n",
      "\n",
      "########## SVR ##########\n",
      "neg_mean_squared_error (Before): 39.0207\n",
      "neg_mean_squared_error (After): 20.9266\n",
      "SVR best params: {'C': 10.0, 'epsilon': 0.01}\n",
      "\n",
      "########## Linear SVR ##########\n",
      "neg_mean_squared_error (Before): 29.5685\n",
      "neg_mean_squared_error (After): 98.3141\n",
      "Linear SVR best params: {'C': 0.1, 'epsilon': 0.1}\n",
      "\n",
      "########## Decision Tree ##########\n",
      "neg_mean_squared_error (Before): 0.4027\n",
      "neg_mean_squared_error (After): 0.364\n",
      "Decision Tree best params: {'max_depth': 7, 'min_samples_split': 4}\n",
      "\n",
      "########## Random Forest ##########\n",
      "neg_mean_squared_error (Before): 0.3223\n",
      "neg_mean_squared_error (After): 0.8371\n",
      "Random Forest best params: {'max_depth': None, 'max_features': 5, 'min_samples_split': 15, 'n_estimators': 200}\n",
      "\n",
      "########## AdaBoost Regressor ##########\n",
      "neg_mean_squared_error (Before): 3.7732\n",
      "neg_mean_squared_error (After): 3.9876\n",
      "AdaBoost Regressor best params: {'n_estimators': 50}\n",
      "\n",
      "########## Gradient Boosting Regressor ##########\n",
      "neg_mean_squared_error (Before): 0.2541\n",
      "neg_mean_squared_error (After): 0.1774\n",
      "Gradient Boosting Regressor best params: {'learning_rate': 0.2, 'max_depth': 4, 'n_estimators': 200}\n",
      "\n",
      "########## XGBoost Regressor ##########\n",
      "neg_mean_squared_error (Before): 0.1932\n",
      "neg_mean_squared_error (After): 0.1762\n",
      "XGBoost Regressor best params: {'colsample_bytree': 1, 'learning_rate': 0.1, 'max_depth': 5, 'n_estimators': 200}\n",
      "\n",
      "########## LightGBM Regressor ##########\n",
      "neg_mean_squared_error (Before): 0.3298\n",
      "neg_mean_squared_error (After): 0.2252\n",
      "LightGBM Regressor best params: {'colsample_bytree': 0.7, 'learning_rate': 0.1, 'n_estimators': 500}\n",
      "\n",
      "########## KNN Regressor ##########\n",
      "neg_mean_squared_error (Before): 7.7756\n",
      "neg_mean_squared_error (After): 6.4879\n",
      "KNN Regressor best params: {'n_neighbors': 3, 'weights': 'uniform'}\n",
      "\n",
      "########## Passive Aggressive Regressor ##########\n",
      "neg_mean_squared_error (Before): 123.3152\n",
      "neg_mean_squared_error (After): 39.7676\n",
      "Passive Aggressive Regressor best params: {'C': 0.1}\n",
      "\n",
      "########## Huber Regressor ##########\n",
      "neg_mean_squared_error (Before): 12.2717\n",
      "neg_mean_squared_error (After): 10.8021\n",
      "Huber Regressor best params: {'epsilon': 1.1}\n",
      "\n",
      "########## SGD Regressor ##########\n",
      "neg_mean_squared_error (Before): 2.525782114468794e+28\n",
      "neg_mean_squared_error (After): 7.224412512872628e+28\n",
      "SGD Regressor best params: {'alpha': 0.0001}\n",
      "\n",
      "########## Kernel Ridge Regression ##########\n",
      "neg_mean_squared_error (Before): 9.9927\n",
      "neg_mean_squared_error (After): 9.7139\n",
      "Kernel Ridge Regression best params: {'alpha': 0.1}\n",
      "\n",
      "########## Extra Trees Regressor ##########\n",
      "neg_mean_squared_error (Before): 0.3904\n",
      "neg_mean_squared_error (After): 0.4099\n",
      "Extra Trees Regressor best params: {'max_features': 'auto', 'n_estimators': 100}\n",
      "\n",
      "########## Bagging Regressor ##########\n",
      "neg_mean_squared_error (Before): 0.3539\n",
      "neg_mean_squared_error (After): 0.3258\n",
      "Bagging Regressor best params: {'n_estimators': 30}\n",
      "\n",
      "########## Extra Tree Regressor ##########\n",
      "neg_mean_squared_error (Before): 0.4029\n",
      "neg_mean_squared_error (After): 0.4227\n",
      "Extra Tree Regressor best params: {'max_depth': 10, 'min_samples_split': 10}\n",
      "\n"
     ]
    }
   ],
   "source": [
    "best_models=hyperparameter_optimization(X_train,y_train)"
   ]
  },
  {
   "cell_type": "markdown",
   "id": "37cdea55",
   "metadata": {},
   "source": [
    "### 3.4. En iyi Modellerin Karmasından Oluşturulan Model"
   ]
  },
  {
   "cell_type": "code",
   "execution_count": 61,
   "id": "b8778cc9",
   "metadata": {},
   "outputs": [],
   "source": [
    "from sklearn.ensemble import VotingRegressor\n",
    "from sklearn.model_selection import cross_validate\n",
    "from sklearn.metrics import mean_squared_error\n",
    "\n",
    "def voting_regressor(best_models, X, y):\n",
    "    print(\"Voting Regressor...\")\n",
    "    voting_reg = VotingRegressor(estimators=[('XGBoost Regressor', best_models[\"XGBoost Regressor\"]), ('Gradient Boosting Regressor', best_models[\"Gradient Boosting Regressor\"]),\n",
    "                                             ('LightGBM Regressor', best_models[\"LightGBM Regressor\"])],\n",
    "                                 n_jobs=-1).fit(X, y)\n",
    "    \n",
    "    cv_results = cross_validate(voting_reg, X, y, cv=3, scoring=\"neg_mean_squared_error\")\n",
    "    \n",
    "    neg_mse_mean = -cv_results['test_score'].mean()\n",
    "    \n",
    "    print(f\"Negative Mean Squared Error: {neg_mse_mean}\")\n",
    "    \n",
    "    return voting_reg"
   ]
  },
  {
   "cell_type": "code",
   "execution_count": 62,
   "id": "8c23be5d",
   "metadata": {},
   "outputs": [
    {
     "data": {
      "text/plain": [
       "{'Ridge Regression': Ridge(alpha=0.1),\n",
       " 'Lasso': Lasso(alpha=0.1),\n",
       " 'ElasticNet': ElasticNet(alpha=0.1, l1_ratio=0.9),\n",
       " 'SVR': SVR(C=10.0, epsilon=0.01),\n",
       " 'Linear SVR': LinearSVR(C=0.1, epsilon=0.1),\n",
       " 'Decision Tree': DecisionTreeRegressor(max_depth=7, min_samples_split=4),\n",
       " 'Random Forest': RandomForestRegressor(max_features=5, min_samples_split=15, n_estimators=200),\n",
       " 'AdaBoost Regressor': AdaBoostRegressor(),\n",
       " 'Gradient Boosting Regressor': GradientBoostingRegressor(learning_rate=0.2, max_depth=4, n_estimators=200),\n",
       " 'XGBoost Regressor': XGBRegressor(base_score=None, booster=None, callbacks=None,\n",
       "              colsample_bylevel=None, colsample_bynode=None, colsample_bytree=1,\n",
       "              early_stopping_rounds=None, enable_categorical=False,\n",
       "              eval_metric='logloss', feature_types=None, gamma=None, gpu_id=None,\n",
       "              grow_policy=None, importance_type=None,\n",
       "              interaction_constraints=None, learning_rate=0.1, max_bin=None,\n",
       "              max_cat_threshold=None, max_cat_to_onehot=None,\n",
       "              max_delta_step=None, max_depth=5, max_leaves=None,\n",
       "              min_child_weight=None, missing=nan, monotone_constraints=None,\n",
       "              n_estimators=200, n_jobs=None, num_parallel_tree=None,\n",
       "              predictor=None, random_state=None, ...),\n",
       " 'LightGBM Regressor': LGBMRegressor(colsample_bytree=0.7, n_estimators=500),\n",
       " 'KNN Regressor': KNeighborsRegressor(n_neighbors=3),\n",
       " 'Passive Aggressive Regressor': PassiveAggressiveRegressor(C=0.1),\n",
       " 'Huber Regressor': HuberRegressor(epsilon=1.1),\n",
       " 'SGD Regressor': SGDRegressor(),\n",
       " 'Kernel Ridge Regression': KernelRidge(alpha=0.1),\n",
       " 'Extra Trees Regressor': ExtraTreesRegressor(),\n",
       " 'Bagging Regressor': BaggingRegressor(n_estimators=30),\n",
       " 'Extra Tree Regressor': ExtraTreeRegressor(max_depth=10, min_samples_split=10)}"
      ]
     },
     "execution_count": 62,
     "metadata": {},
     "output_type": "execute_result"
    }
   ],
   "source": [
    "best_models"
   ]
  },
  {
   "cell_type": "code",
   "execution_count": 63,
   "id": "ab6f1e30",
   "metadata": {},
   "outputs": [
    {
     "name": "stdout",
     "output_type": "stream",
     "text": [
      "Voting Regressor...\n",
      "Negative Mean Squared Error: 0.17227176712883144\n"
     ]
    }
   ],
   "source": [
    "voting_reg=voting_regressor(best_models,X_train,y_train)"
   ]
  },
  {
   "cell_type": "markdown",
   "id": "1eeff646",
   "metadata": {},
   "source": [
    "### 3.5. En Başarılı Modelde Hata Oranı"
   ]
  },
  {
   "cell_type": "code",
   "execution_count": 64,
   "id": "66be5205",
   "metadata": {},
   "outputs": [],
   "source": [
    "train_pred=voting_reg.predict(X_train)\n",
    "val_pred=voting_reg.predict(X_validation)\n",
    "test_pred=voting_reg.predict(X_test)"
   ]
  },
  {
   "cell_type": "code",
   "execution_count": 65,
   "id": "bd93a1e9",
   "metadata": {},
   "outputs": [],
   "source": [
    "from sklearn.metrics import mean_squared_error, mean_absolute_error\n",
    "from math import sqrt\n",
    "\n",
    "def calculate_rmse_mae_mse_for_custom_splits(y_true_train, y_pred_train, y_true_val, y_pred_val, y_true_test, y_pred_test):\n",
    "    \"\"\"\n",
    "    Verilen gerçek ve tahmin edilen değerler için RMSE, MAE ve MSE hesaplar.\n",
    "\n",
    "    Parameters:\n",
    "    - y_true_train: Eğitim setindeki gerçek değerler\n",
    "    - y_pred_train: Eğitim setindeki tahmin edilen değerler\n",
    "    - y_true_val: Doğrulama setindeki gerçek değerler\n",
    "    - y_pred_val: Doğrulama setindeki tahmin edilen değerler\n",
    "    - y_true_test: Test setindeki gerçek değerler\n",
    "    - y_pred_test: Test setindeki tahmin edilen değerler\n",
    "\n",
    "    Returns:\n",
    "    - train_rmse: Eğitim seti RMSE\n",
    "    - val_rmse: Doğrulama seti RMSE\n",
    "    - test_rmse: Test seti RMSE\n",
    "    - train_mae: Eğitim seti MAE\n",
    "    - val_mae: Doğrulama seti MAE\n",
    "    - test_mae: Test seti MAE\n",
    "    - train_mse: Eğitim seti MSE\n",
    "    - val_mse: Doğrulama seti MSE\n",
    "    - test_mse: Test seti MSE\n",
    "    \"\"\"\n",
    "\n",
    "    # Eğitim setinde RMSE, MAE ve MSE hesapla\n",
    "    train_rmse = sqrt(mean_squared_error(y_true_train, y_pred_train))\n",
    "    train_mae = mean_absolute_error(y_true_train, y_pred_train)\n",
    "    train_mse = mean_squared_error(y_true_train, y_pred_train)\n",
    "\n",
    "    # Doğrulama setinde RMSE, MAE ve MSE hesapla\n",
    "    val_rmse = sqrt(mean_squared_error(y_true_val, y_pred_val))\n",
    "    val_mae = mean_absolute_error(y_true_val, y_pred_val)\n",
    "    val_mse = mean_squared_error(y_true_val, y_pred_val)\n",
    "\n",
    "    # Test setinde RMSE, MAE ve MSE hesapla\n",
    "    test_rmse = sqrt(mean_squared_error(y_true_test, y_pred_test))\n",
    "    test_mae = mean_absolute_error(y_true_test, y_pred_test)\n",
    "    test_mse = mean_squared_error(y_true_test, y_pred_test)\n",
    "\n",
    "    print(f\"Train RMSE: {train_rmse}\")\n",
    "    print(f\"Train MAE: {train_mae}\")\n",
    "    print(f\"Train MSE: {train_mse}\")\n",
    "    print(f\"Validation RMSE: {val_rmse}\")\n",
    "    print(f\"Validation MAE: {val_mae}\")\n",
    "    print(f\"Validation MSE: {val_mse}\")\n",
    "    print(f\"Test RMSE: {test_rmse}\")\n",
    "    print(f\"Test MAE: {test_mae}\")\n",
    "    print(f\"Test MSE: {test_mse}\")\n",
    "    \n",
    "    return train_rmse, val_rmse, test_rmse, train_mae, val_mae, test_mae, train_mse, val_mse, test_mse"
   ]
  },
  {
   "cell_type": "code",
   "execution_count": 66,
   "id": "ba5c7646",
   "metadata": {},
   "outputs": [
    {
     "name": "stdout",
     "output_type": "stream",
     "text": [
      "Train RMSE: 0.16800920681502635\n",
      "Train MAE: 0.1192245163457187\n",
      "Train MSE: 0.028227093574614292\n",
      "Validation RMSE: 0.32697956352357493\n",
      "Validation MAE: 0.22379833391046985\n",
      "Validation MSE: 0.10691563496206759\n",
      "Test RMSE: 0.2674916798543897\n",
      "Test MAE: 0.20784842173852316\n",
      "Test MSE: 0.07155179879132333\n"
     ]
    },
    {
     "data": {
      "text/plain": [
       "(0.16800920681502635,\n",
       " 0.32697956352357493,\n",
       " 0.2674916798543897,\n",
       " 0.1192245163457187,\n",
       " 0.22379833391046985,\n",
       " 0.20784842173852316,\n",
       " 0.028227093574614292,\n",
       " 0.10691563496206759,\n",
       " 0.07155179879132333)"
      ]
     },
     "execution_count": 66,
     "metadata": {},
     "output_type": "execute_result"
    }
   ],
   "source": [
    "calculate_rmse_mae_mse_for_custom_splits(y_train, train_pred,y_validation, val_pred, y_test, test_pred)"
   ]
  },
  {
   "cell_type": "markdown",
   "id": "407e631a",
   "metadata": {},
   "source": [
    "### 3.6. Model Kayıt"
   ]
  },
  {
   "cell_type": "code",
   "execution_count": 67,
   "id": "06a1402d",
   "metadata": {},
   "outputs": [
    {
     "data": {
      "text/plain": [
       "['voting_clf2.pkl']"
      ]
     },
     "execution_count": 67,
     "metadata": {},
     "output_type": "execute_result"
    }
   ],
   "source": [
    "joblib.dump(voting_reg, \"voting_clf2.pkl\")"
   ]
  },
  {
   "cell_type": "markdown",
   "id": "5d256c90",
   "metadata": {},
   "source": [
    "### 3.7. Model Çağırma"
   ]
  },
  {
   "cell_type": "code",
   "execution_count": 68,
   "id": "0b21f418",
   "metadata": {},
   "outputs": [
    {
     "data": {
      "text/plain": [
       "array([24.41837208])"
      ]
     },
     "execution_count": 68,
     "metadata": {},
     "output_type": "execute_result"
    }
   ],
   "source": [
    "random_user = X.sample(1, random_state=45)\n",
    "new_model = joblib.load(\"voting_clf2.pkl\")\n",
    "new_model.predict(random_user)\n"
   ]
  },
  {
   "cell_type": "code",
   "execution_count": 69,
   "id": "176b8b96",
   "metadata": {},
   "outputs": [
    {
     "name": "stdout",
     "output_type": "stream",
     "text": [
      "    isitma_yuku     tahmin\n",
      "0         32.13  32.279516\n",
      "1         14.34  14.170377\n",
      "2         12.87  12.815400\n",
      "3         33.28  32.958981\n",
      "4         32.67  32.559723\n",
      "..          ...        ...\n",
      "72        25.74  25.462933\n",
      "73        24.23  23.919650\n",
      "74        14.62  14.633850\n",
      "75        28.15  28.402271\n",
      "76        15.29  15.259819\n",
      "\n",
      "[77 rows x 2 columns]\n"
     ]
    }
   ],
   "source": [
    "test_pred_series = pd.Series(test_pred, name=\"tahmin\")\n",
    "\n",
    "# y_test ve test_pred verilerini bir DataFrame'de birleştirin\n",
    "karsilastirma = pd.concat([y_test.reset_index(drop=True), test_pred_series.reset_index(drop=True)], axis=1)\n",
    "\n",
    "# DataFrame'i gösterin\n",
    "print(karsilastirma)"
   ]
  },
  {
   "cell_type": "code",
   "execution_count": 70,
   "id": "83b3cfc4",
   "metadata": {},
   "outputs": [
    {
     "name": "stdout",
     "output_type": "stream",
     "text": [
      "     satis_fiyati     tahmin\n",
      "586         32.13  32.279516\n",
      "429         14.34  14.170377\n",
      "369         12.87  12.815400\n",
      "439         33.28  32.958981\n",
      "436         32.67  32.559723\n",
      "..            ...        ...\n",
      "348         25.74  25.462933\n",
      "193         24.23  23.919650\n",
      "611         14.62  14.633850\n",
      "288         28.15  28.402271\n",
      "613         15.29  15.259819\n",
      "\n",
      "[77 rows x 2 columns]\n"
     ]
    }
   ],
   "source": [
    "test_pred_series = pd.Series(test_pred, index=y_test.index[:len(test_pred)], name=\"tahmin\")\n",
    "\n",
    "# y_test ve test_pred verilerini bir DataFrame'de birleştirin\n",
    "karsilastirma = pd.DataFrame({\"satis_fiyati\": y_test, \"tahmin\": test_pred_series})\n",
    "\n",
    "# DataFrame'i gösterin\n",
    "print(karsilastirma)"
   ]
  },
  {
   "cell_type": "code",
   "execution_count": 71,
   "id": "76990c47",
   "metadata": {},
   "outputs": [
    {
     "data": {
      "text/html": [
       "<div>\n",
       "<style scoped>\n",
       "    .dataframe tbody tr th:only-of-type {\n",
       "        vertical-align: middle;\n",
       "    }\n",
       "\n",
       "    .dataframe tbody tr th {\n",
       "        vertical-align: top;\n",
       "    }\n",
       "\n",
       "    .dataframe thead th {\n",
       "        text-align: right;\n",
       "    }\n",
       "</style>\n",
       "<table border=\"1\" class=\"dataframe\">\n",
       "  <thead>\n",
       "    <tr style=\"text-align: right;\">\n",
       "      <th></th>\n",
       "      <th>satis_fiyati</th>\n",
       "      <th>tahmin</th>\n",
       "    </tr>\n",
       "  </thead>\n",
       "  <tbody>\n",
       "    <tr>\n",
       "      <th>586</th>\n",
       "      <td>32.13</td>\n",
       "      <td>32.279516</td>\n",
       "    </tr>\n",
       "    <tr>\n",
       "      <th>429</th>\n",
       "      <td>14.34</td>\n",
       "      <td>14.170377</td>\n",
       "    </tr>\n",
       "    <tr>\n",
       "      <th>369</th>\n",
       "      <td>12.87</td>\n",
       "      <td>12.815400</td>\n",
       "    </tr>\n",
       "    <tr>\n",
       "      <th>439</th>\n",
       "      <td>33.28</td>\n",
       "      <td>32.958981</td>\n",
       "    </tr>\n",
       "    <tr>\n",
       "      <th>436</th>\n",
       "      <td>32.67</td>\n",
       "      <td>32.559723</td>\n",
       "    </tr>\n",
       "    <tr>\n",
       "      <th>...</th>\n",
       "      <td>...</td>\n",
       "      <td>...</td>\n",
       "    </tr>\n",
       "    <tr>\n",
       "      <th>348</th>\n",
       "      <td>25.74</td>\n",
       "      <td>25.462933</td>\n",
       "    </tr>\n",
       "    <tr>\n",
       "      <th>193</th>\n",
       "      <td>24.23</td>\n",
       "      <td>23.919650</td>\n",
       "    </tr>\n",
       "    <tr>\n",
       "      <th>611</th>\n",
       "      <td>14.62</td>\n",
       "      <td>14.633850</td>\n",
       "    </tr>\n",
       "    <tr>\n",
       "      <th>288</th>\n",
       "      <td>28.15</td>\n",
       "      <td>28.402271</td>\n",
       "    </tr>\n",
       "    <tr>\n",
       "      <th>613</th>\n",
       "      <td>15.29</td>\n",
       "      <td>15.259819</td>\n",
       "    </tr>\n",
       "  </tbody>\n",
       "</table>\n",
       "<p>77 rows × 2 columns</p>\n",
       "</div>"
      ],
      "text/plain": [
       "     satis_fiyati     tahmin\n",
       "586         32.13  32.279516\n",
       "429         14.34  14.170377\n",
       "369         12.87  12.815400\n",
       "439         33.28  32.958981\n",
       "436         32.67  32.559723\n",
       "..            ...        ...\n",
       "348         25.74  25.462933\n",
       "193         24.23  23.919650\n",
       "611         14.62  14.633850\n",
       "288         28.15  28.402271\n",
       "613         15.29  15.259819\n",
       "\n",
       "[77 rows x 2 columns]"
      ]
     },
     "execution_count": 71,
     "metadata": {},
     "output_type": "execute_result"
    }
   ],
   "source": [
    "karsilastirma"
   ]
  },
  {
   "cell_type": "code",
   "execution_count": null,
   "id": "9076058b",
   "metadata": {},
   "outputs": [],
   "source": []
  }
 ],
 "metadata": {
  "kernelspec": {
   "display_name": "Python 3 (ipykernel)",
   "language": "python",
   "name": "python3"
  },
  "language_info": {
   "codemirror_mode": {
    "name": "ipython",
    "version": 3
   },
   "file_extension": ".py",
   "mimetype": "text/x-python",
   "name": "python",
   "nbconvert_exporter": "python",
   "pygments_lexer": "ipython3",
   "version": "3.9.13"
  }
 },
 "nbformat": 4,
 "nbformat_minor": 5
}
